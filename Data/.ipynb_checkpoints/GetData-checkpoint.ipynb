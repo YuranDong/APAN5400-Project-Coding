{
 "cells": [
  {
   "cell_type": "code",
   "execution_count": 1,
   "id": "dc23e3aa-fd8a-4317-9c3b-ce519dfcd240",
   "metadata": {},
   "outputs": [],
   "source": [
    "import requests\n",
    "import pandas as pd\n",
    "import gzip\n",
    "from io import BytesIO\n",
    "import logging"
   ]
  },
  {
   "cell_type": "markdown",
   "id": "79bf1e03-28e7-4746-9cbf-0b649242b66c",
   "metadata": {
    "jp-MarkdownHeadingCollapsed": true,
    "tags": []
   },
   "source": [
    "# WIP Get NYC area Detailed Listing/Calendar/Review Data"
   ]
  },
  {
   "cell_type": "code",
   "execution_count": 2,
   "id": "f3dea02e-cc83-4124-be94-b4caaff7756b",
   "metadata": {},
   "outputs": [],
   "source": [
    "def download_and_extract(url):\n",
    "    # Send a GET request to the URL\n",
    "    response = requests.get(url)\n",
    "    # Check if the request was successful\n",
    "    if response.status_code == 200:\n",
    "        # Extract filename from the URL\n",
    "        filename = url.split('/')[-1].replace('.gz', '')\n",
    "        # Open the gzip file\n",
    "        with gzip.open(BytesIO(response.content), 'rb') as f:\n",
    "            # Read the contents of the gzip file\n",
    "            file_content = f.read()\n",
    "        return file_content\n",
    "    else:\n",
    "        # Request was not successful, print error message\n",
    "        print(\"Failed to download the file from the provided URL.\")\n",
    "        return None"
   ]
  },
  {
   "cell_type": "code",
   "execution_count": 3,
   "id": "6234ba45-4cf3-4254-addd-1db07dbd8df5",
   "metadata": {},
   "outputs": [],
   "source": [
    "file_ls = ['listings.csv.gz','calendar.csv.gz','reviews.csv.gz']\n",
    "location_url_ls = ['http://data.insideairbnb.com/united-states/ny/albany/2024-01-06/data/',\n",
    "                    'http://data.insideairbnb.com/united-states/nc/asheville/2023-12-18/data/',\n",
    "                    'http://data.insideairbnb.com/united-states/tx/austin/2023-12-15/data/',\n",
    "                    'http://data.insideairbnb.com/united-states/ma/boston/2023-12-18/data/',\n",
    "                    'http://data.insideairbnb.com/united-states/mt/bozeman/2023-12-10/data/',\n",
    "                    'http://data.insideairbnb.com/united-states/fl/broward-county/2023-12-25/data/',\n",
    "                    'http://data.insideairbnb.com/united-states/ma/cambridge/2023-12-26/data/',\n",
    "                    'http://data.insideairbnb.com/united-states/il/chicago/2023-12-18/data/',\n",
    "                    'http://data.insideairbnb.com/united-states/nv/clark-county-nv/2023-12-20/data/',\n",
    "                    'http://data.insideairbnb.com/united-states/oh/columbus/2023-12-25/data/',\n",
    "                    'http://data.insideairbnb.com/united-states/tx/dallas/2023-12-18/data/',\n",
    "                    'http://data.insideairbnb.com/united-states/co/denver/2023-12-29/data/',\n",
    "                    'http://data.insideairbnb.com/united-states/tx/fort-worth/2023-12-15/data/',\n",
    "                    'http://data.insideairbnb.com/united-states/hi/hawaii/2023-12-15/data/',\n",
    "                    'http://data.insideairbnb.com/united-states/nj/jersey-city/2023-12-22/data/',\n",
    "                    'http://data.insideairbnb.com/united-states/ca/los-angeles/2023-12-03/data/',\n",
    "                    'http://data.insideairbnb.com/united-states/tn/nashville/2023-12-18/data/',\n",
    "                    'http://data.insideairbnb.com/united-states/la/new-orleans/2023-12-03/data/',\n",
    "                    'http://data.insideairbnb.com/united-states/ny/new-york-city/2024-02-06/data/',\n",
    "                    'http://data.insideairbnb.com/united-states/nj/newark/2023-12-30/data/',\n",
    "                    'http://data.insideairbnb.com/united-states/ca/oakland/2023-12-20/data/',\n",
    "                    'http://data.insideairbnb.com/united-states/ca/pacific-grove/2023-12-31/data/',\n",
    "                    'http://data.insideairbnb.com/united-states/or/portland/2023-12-20/data/',\n",
    "                    'http://data.insideairbnb.com/united-states/ri/rhode-island/2023-12-30/data/',\n",
    "                    'http://data.insideairbnb.com/united-states/ny/rochester/2023-12-20/data/',\n",
    "                    'http://data.insideairbnb.com/united-states/or/salem-or/2023-12-22/data/',\n",
    "                    'http://data.insideairbnb.com/united-states/ca/san-diego/2023-12-04/data/',\n",
    "                    'http://data.insideairbnb.com/united-states/ca/san-francisco/2023-12-04/data/',\n",
    "                    'http://data.insideairbnb.com/united-states/ca/san-mateo-county/2023-12-22/data/',\n",
    "                    'http://data.insideairbnb.com/united-states/ca/santa-clara-county/2023-12-23/data/',\n",
    "                    'http://data.insideairbnb.com/united-states/ca/santa-cruz-county/2023-12-30/data/',\n",
    "                    'http://data.insideairbnb.com/united-states/wa/seattle/2023-12-20/data/',\n",
    "                    'http://data.insideairbnb.com/united-states/mn/twin-cities-msa/2023-12-20/data/',\n",
    "                    'http://data.insideairbnb.com/united-states/dc/washington-dc/2023-12-18/data/']"
   ]
  },
  {
   "cell_type": "code",
   "execution_count": 4,
   "id": "6aaae1dd-e0e3-45c1-9dfb-ea35bbbcec7f",
   "metadata": {},
   "outputs": [
    {
     "name": "stdout",
     "output_type": "stream",
     "text": [
      "Success:  410 rows,  http://data.insideairbnb.com/united-states/ny/albany/2024-01-06/data/listings.csv.gz\n",
      "Success:  3329 rows,  http://data.insideairbnb.com/united-states/nc/asheville/2023-12-18/data/listings.csv.gz\n",
      "Success:  15419 rows,  http://data.insideairbnb.com/united-states/tx/austin/2023-12-15/data/listings.csv.gz\n",
      "Success:  4204 rows,  http://data.insideairbnb.com/united-states/ma/boston/2023-12-18/data/listings.csv.gz\n",
      "Success:  594 rows,  http://data.insideairbnb.com/united-states/mt/bozeman/2023-12-10/data/listings.csv.gz\n"
     ]
    },
    {
     "name": "stderr",
     "output_type": "stream",
     "text": [
      "/var/folders/4m/_hrbkn4n1136mxjddxj_xssr0000gp/T/ipykernel_974/75775745.py:17: DtypeWarning: Columns (68) have mixed types. Specify dtype option on import or set low_memory=False.\n",
      "  df = pd.read_csv(BytesIO(csv_file))\n"
     ]
    },
    {
     "name": "stdout",
     "output_type": "stream",
     "text": [
      "Success:  18230 rows,  http://data.insideairbnb.com/united-states/fl/broward-county/2023-12-25/data/listings.csv.gz\n",
      "Success:  1130 rows,  http://data.insideairbnb.com/united-states/ma/cambridge/2023-12-26/data/listings.csv.gz\n",
      "Success:  8949 rows,  http://data.insideairbnb.com/united-states/il/chicago/2023-12-18/data/listings.csv.gz\n",
      "Success:  17414 rows,  http://data.insideairbnb.com/united-states/nv/clark-county-nv/2023-12-20/data/listings.csv.gz\n",
      "Success:  2668 rows,  http://data.insideairbnb.com/united-states/oh/columbus/2023-12-25/data/listings.csv.gz\n",
      "Success:  5642 rows,  http://data.insideairbnb.com/united-states/tx/dallas/2023-12-18/data/listings.csv.gz\n",
      "Success:  4971 rows,  http://data.insideairbnb.com/united-states/co/denver/2023-12-29/data/listings.csv.gz\n",
      "Success:  1871 rows,  http://data.insideairbnb.com/united-states/tx/fort-worth/2023-12-15/data/listings.csv.gz\n",
      "Success:  34040 rows,  http://data.insideairbnb.com/united-states/hi/hawaii/2023-12-15/data/listings.csv.gz\n",
      "Success:  1549 rows,  http://data.insideairbnb.com/united-states/nj/jersey-city/2023-12-22/data/listings.csv.gz\n",
      "Success:  45591 rows,  http://data.insideairbnb.com/united-states/ca/los-angeles/2023-12-03/data/listings.csv.gz\n",
      "Success:  8850 rows,  http://data.insideairbnb.com/united-states/tn/nashville/2023-12-18/data/listings.csv.gz\n",
      "Success:  7075 rows,  http://data.insideairbnb.com/united-states/la/new-orleans/2023-12-03/data/listings.csv.gz\n",
      "Success:  39202 rows,  http://data.insideairbnb.com/united-states/ny/new-york-city/2024-02-06/data/listings.csv.gz\n",
      "Success:  1700 rows,  http://data.insideairbnb.com/united-states/nj/newark/2023-12-30/data/listings.csv.gz\n",
      "Success:  2749 rows,  http://data.insideairbnb.com/united-states/ca/oakland/2023-12-20/data/listings.csv.gz\n",
      "Success:  239 rows,  http://data.insideairbnb.com/united-states/ca/pacific-grove/2023-12-31/data/listings.csv.gz\n",
      "Success:  4945 rows,  http://data.insideairbnb.com/united-states/or/portland/2023-12-20/data/listings.csv.gz\n",
      "Success:  4839 rows,  http://data.insideairbnb.com/united-states/ri/rhode-island/2023-12-30/data/listings.csv.gz\n",
      "Success:  1037 rows,  http://data.insideairbnb.com/united-states/ny/rochester/2023-12-20/data/listings.csv.gz\n",
      "Success:  336 rows,  http://data.insideairbnb.com/united-states/or/salem-or/2023-12-22/data/listings.csv.gz\n",
      "Success:  12819 rows,  http://data.insideairbnb.com/united-states/ca/san-diego/2023-12-04/data/listings.csv.gz\n",
      "Success:  8056 rows,  http://data.insideairbnb.com/united-states/ca/san-francisco/2023-12-04/data/listings.csv.gz\n",
      "Success:  3530 rows,  http://data.insideairbnb.com/united-states/ca/san-mateo-county/2023-12-22/data/listings.csv.gz\n",
      "Success:  6948 rows,  http://data.insideairbnb.com/united-states/ca/santa-clara-county/2023-12-23/data/listings.csv.gz\n",
      "Success:  1651 rows,  http://data.insideairbnb.com/united-states/ca/santa-cruz-county/2023-12-30/data/listings.csv.gz\n",
      "Success:  6882 rows,  http://data.insideairbnb.com/united-states/wa/seattle/2023-12-20/data/listings.csv.gz\n",
      "Success:  5464 rows,  http://data.insideairbnb.com/united-states/mn/twin-cities-msa/2023-12-20/data/listings.csv.gz\n",
      "Success:  6853 rows,  http://data.insideairbnb.com/united-states/dc/washington-dc/2023-12-18/data/listings.csv.gz\n",
      "Success:  149650 rows,  http://data.insideairbnb.com/united-states/ny/albany/2024-01-06/data/calendar.csv.gz\n"
     ]
    },
    {
     "name": "stderr",
     "output_type": "stream",
     "text": [
      "/var/folders/4m/_hrbkn4n1136mxjddxj_xssr0000gp/T/ipykernel_974/75775745.py:17: DtypeWarning: Columns (4) have mixed types. Specify dtype option on import or set low_memory=False.\n",
      "  df = pd.read_csv(BytesIO(csv_file))\n"
     ]
    },
    {
     "name": "stdout",
     "output_type": "stream",
     "text": [
      "Success:  1215271 rows,  http://data.insideairbnb.com/united-states/nc/asheville/2023-12-18/data/calendar.csv.gz\n"
     ]
    },
    {
     "name": "stderr",
     "output_type": "stream",
     "text": [
      "/var/folders/4m/_hrbkn4n1136mxjddxj_xssr0000gp/T/ipykernel_974/75775745.py:17: DtypeWarning: Columns (4) have mixed types. Specify dtype option on import or set low_memory=False.\n",
      "  df = pd.read_csv(BytesIO(csv_file))\n"
     ]
    },
    {
     "name": "stdout",
     "output_type": "stream",
     "text": [
      "Success:  5628526 rows,  http://data.insideairbnb.com/united-states/tx/austin/2023-12-15/data/calendar.csv.gz\n",
      "Success:  1534396 rows,  http://data.insideairbnb.com/united-states/ma/boston/2023-12-18/data/calendar.csv.gz\n"
     ]
    },
    {
     "name": "stderr",
     "output_type": "stream",
     "text": [
      "/var/folders/4m/_hrbkn4n1136mxjddxj_xssr0000gp/T/ipykernel_974/75775745.py:17: DtypeWarning: Columns (3) have mixed types. Specify dtype option on import or set low_memory=False.\n",
      "  df = pd.read_csv(BytesIO(csv_file))\n"
     ]
    },
    {
     "name": "stdout",
     "output_type": "stream",
     "text": [
      "Success:  216810 rows,  http://data.insideairbnb.com/united-states/mt/bozeman/2023-12-10/data/calendar.csv.gz\n"
     ]
    },
    {
     "name": "stderr",
     "output_type": "stream",
     "text": [
      "/var/folders/4m/_hrbkn4n1136mxjddxj_xssr0000gp/T/ipykernel_974/75775745.py:17: DtypeWarning: Columns (4) have mixed types. Specify dtype option on import or set low_memory=False.\n",
      "  df = pd.read_csv(BytesIO(csv_file))\n"
     ]
    },
    {
     "name": "stdout",
     "output_type": "stream",
     "text": [
      "Success:  6655138 rows,  http://data.insideairbnb.com/united-states/fl/broward-county/2023-12-25/data/calendar.csv.gz\n",
      "Success:  412456 rows,  http://data.insideairbnb.com/united-states/ma/cambridge/2023-12-26/data/calendar.csv.gz\n"
     ]
    },
    {
     "name": "stderr",
     "output_type": "stream",
     "text": [
      "/var/folders/4m/_hrbkn4n1136mxjddxj_xssr0000gp/T/ipykernel_974/75775745.py:17: DtypeWarning: Columns (4) have mixed types. Specify dtype option on import or set low_memory=False.\n",
      "  df = pd.read_csv(BytesIO(csv_file))\n"
     ]
    },
    {
     "name": "stdout",
     "output_type": "stream",
     "text": [
      "Success:  3266145 rows,  http://data.insideairbnb.com/united-states/il/chicago/2023-12-18/data/calendar.csv.gz\n"
     ]
    },
    {
     "name": "stderr",
     "output_type": "stream",
     "text": [
      "/var/folders/4m/_hrbkn4n1136mxjddxj_xssr0000gp/T/ipykernel_974/75775745.py:17: DtypeWarning: Columns (4) have mixed types. Specify dtype option on import or set low_memory=False.\n",
      "  df = pd.read_csv(BytesIO(csv_file))\n"
     ]
    },
    {
     "name": "stdout",
     "output_type": "stream",
     "text": [
      "Success:  6357331 rows,  http://data.insideairbnb.com/united-states/nv/clark-county-nv/2023-12-20/data/calendar.csv.gz\n",
      "Success:  974078 rows,  http://data.insideairbnb.com/united-states/oh/columbus/2023-12-25/data/calendar.csv.gz\n",
      "Success:  2059330 rows,  http://data.insideairbnb.com/united-states/tx/dallas/2023-12-18/data/calendar.csv.gz\n",
      "Success:  1814226 rows,  http://data.insideairbnb.com/united-states/co/denver/2023-12-29/data/calendar.csv.gz\n",
      "Success:  682915 rows,  http://data.insideairbnb.com/united-states/tx/fort-worth/2023-12-15/data/calendar.csv.gz\n"
     ]
    },
    {
     "name": "stderr",
     "output_type": "stream",
     "text": [
      "/var/folders/4m/_hrbkn4n1136mxjddxj_xssr0000gp/T/ipykernel_974/75775745.py:17: DtypeWarning: Columns (4) have mixed types. Specify dtype option on import or set low_memory=False.\n",
      "  df = pd.read_csv(BytesIO(csv_file))\n"
     ]
    },
    {
     "name": "stdout",
     "output_type": "stream",
     "text": [
      "Success:  12421910 rows,  http://data.insideairbnb.com/united-states/hi/hawaii/2023-12-15/data/calendar.csv.gz\n",
      "Success:  565501 rows,  http://data.insideairbnb.com/united-states/nj/jersey-city/2023-12-22/data/calendar.csv.gz\n"
     ]
    },
    {
     "name": "stderr",
     "output_type": "stream",
     "text": [
      "/var/folders/4m/_hrbkn4n1136mxjddxj_xssr0000gp/T/ipykernel_974/75775745.py:17: DtypeWarning: Columns (3,4) have mixed types. Specify dtype option on import or set low_memory=False.\n",
      "  df = pd.read_csv(BytesIO(csv_file))\n"
     ]
    },
    {
     "name": "stdout",
     "output_type": "stream",
     "text": [
      "Success:  16643832 rows,  http://data.insideairbnb.com/united-states/ca/los-angeles/2023-12-03/data/calendar.csv.gz\n",
      "Success:  3229903 rows,  http://data.insideairbnb.com/united-states/tn/nashville/2023-12-18/data/calendar.csv.gz\n",
      "Success:  2582375 rows,  http://data.insideairbnb.com/united-states/la/new-orleans/2023-12-03/data/calendar.csv.gz\n"
     ]
    },
    {
     "name": "stderr",
     "output_type": "stream",
     "text": [
      "/var/folders/4m/_hrbkn4n1136mxjddxj_xssr0000gp/T/ipykernel_974/75775745.py:17: DtypeWarning: Columns (4) have mixed types. Specify dtype option on import or set low_memory=False.\n",
      "  df = pd.read_csv(BytesIO(csv_file))\n"
     ]
    },
    {
     "name": "stdout",
     "output_type": "stream",
     "text": [
      "Success:  14299870 rows,  http://data.insideairbnb.com/united-states/ny/new-york-city/2024-02-06/data/calendar.csv.gz\n",
      "Success:  620643 rows,  http://data.insideairbnb.com/united-states/nj/newark/2023-12-30/data/calendar.csv.gz\n",
      "Success:  1003542 rows,  http://data.insideairbnb.com/united-states/ca/oakland/2023-12-20/data/calendar.csv.gz\n",
      "Success:  87235 rows,  http://data.insideairbnb.com/united-states/ca/pacific-grove/2023-12-31/data/calendar.csv.gz\n",
      "Success:  1804925 rows,  http://data.insideairbnb.com/united-states/or/portland/2023-12-20/data/calendar.csv.gz\n"
     ]
    },
    {
     "name": "stderr",
     "output_type": "stream",
     "text": [
      "/var/folders/4m/_hrbkn4n1136mxjddxj_xssr0000gp/T/ipykernel_974/75775745.py:17: DtypeWarning: Columns (4) have mixed types. Specify dtype option on import or set low_memory=False.\n",
      "  df = pd.read_csv(BytesIO(csv_file))\n"
     ]
    },
    {
     "name": "stdout",
     "output_type": "stream",
     "text": [
      "Success:  1766450 rows,  http://data.insideairbnb.com/united-states/ri/rhode-island/2023-12-30/data/calendar.csv.gz\n",
      "Success:  378505 rows,  http://data.insideairbnb.com/united-states/ny/rochester/2023-12-20/data/calendar.csv.gz\n",
      "Success:  122640 rows,  http://data.insideairbnb.com/united-states/or/salem-or/2023-12-22/data/calendar.csv.gz\n"
     ]
    },
    {
     "name": "stderr",
     "output_type": "stream",
     "text": [
      "/var/folders/4m/_hrbkn4n1136mxjddxj_xssr0000gp/T/ipykernel_974/75775745.py:17: DtypeWarning: Columns (3,4) have mixed types. Specify dtype option on import or set low_memory=False.\n",
      "  df = pd.read_csv(BytesIO(csv_file))\n"
     ]
    },
    {
     "name": "stdout",
     "output_type": "stream",
     "text": [
      "Success:  4680308 rows,  http://data.insideairbnb.com/united-states/ca/san-diego/2023-12-04/data/calendar.csv.gz\n"
     ]
    },
    {
     "name": "stderr",
     "output_type": "stream",
     "text": [
      "/var/folders/4m/_hrbkn4n1136mxjddxj_xssr0000gp/T/ipykernel_974/75775745.py:17: DtypeWarning: Columns (3,4) have mixed types. Specify dtype option on import or set low_memory=False.\n",
      "  df = pd.read_csv(BytesIO(csv_file))\n"
     ]
    },
    {
     "name": "stdout",
     "output_type": "stream",
     "text": [
      "Success:  2940438 rows,  http://data.insideairbnb.com/united-states/ca/san-francisco/2023-12-04/data/calendar.csv.gz\n"
     ]
    },
    {
     "name": "stderr",
     "output_type": "stream",
     "text": [
      "/var/folders/4m/_hrbkn4n1136mxjddxj_xssr0000gp/T/ipykernel_974/75775745.py:17: DtypeWarning: Columns (4) have mixed types. Specify dtype option on import or set low_memory=False.\n",
      "  df = pd.read_csv(BytesIO(csv_file))\n"
     ]
    },
    {
     "name": "stdout",
     "output_type": "stream",
     "text": [
      "Success:  1288727 rows,  http://data.insideairbnb.com/united-states/ca/san-mateo-county/2023-12-22/data/calendar.csv.gz\n"
     ]
    },
    {
     "name": "stderr",
     "output_type": "stream",
     "text": [
      "/var/folders/4m/_hrbkn4n1136mxjddxj_xssr0000gp/T/ipykernel_974/75775745.py:17: DtypeWarning: Columns (4) have mixed types. Specify dtype option on import or set low_memory=False.\n",
      "  df = pd.read_csv(BytesIO(csv_file))\n"
     ]
    },
    {
     "name": "stdout",
     "output_type": "stream",
     "text": [
      "Success:  2536020 rows,  http://data.insideairbnb.com/united-states/ca/santa-clara-county/2023-12-23/data/calendar.csv.gz\n",
      "Success:  602615 rows,  http://data.insideairbnb.com/united-states/ca/santa-cruz-county/2023-12-30/data/calendar.csv.gz\n",
      "Success:  2512306 rows,  http://data.insideairbnb.com/united-states/wa/seattle/2023-12-20/data/calendar.csv.gz\n",
      "Success:  1994360 rows,  http://data.insideairbnb.com/united-states/mn/twin-cities-msa/2023-12-20/data/calendar.csv.gz\n",
      "Success:  2500945 rows,  http://data.insideairbnb.com/united-states/dc/washington-dc/2023-12-18/data/calendar.csv.gz\n",
      "Success:  21879 rows,  http://data.insideairbnb.com/united-states/ny/albany/2024-01-06/data/reviews.csv.gz\n",
      "Success:  335803 rows,  http://data.insideairbnb.com/united-states/nc/asheville/2023-12-18/data/reviews.csv.gz\n",
      "Success:  586441 rows,  http://data.insideairbnb.com/united-states/tx/austin/2023-12-15/data/reviews.csv.gz\n",
      "Success:  182482 rows,  http://data.insideairbnb.com/united-states/ma/boston/2023-12-18/data/reviews.csv.gz\n",
      "Success:  34095 rows,  http://data.insideairbnb.com/united-states/mt/bozeman/2023-12-10/data/reviews.csv.gz\n",
      "Success:  522927 rows,  http://data.insideairbnb.com/united-states/fl/broward-county/2023-12-25/data/reviews.csv.gz\n",
      "Success:  56737 rows,  http://data.insideairbnb.com/united-states/ma/cambridge/2023-12-26/data/reviews.csv.gz\n",
      "Success:  418573 rows,  http://data.insideairbnb.com/united-states/il/chicago/2023-12-18/data/reviews.csv.gz\n",
      "Success:  512200 rows,  http://data.insideairbnb.com/united-states/nv/clark-county-nv/2023-12-20/data/reviews.csv.gz\n",
      "Success:  133644 rows,  http://data.insideairbnb.com/united-states/oh/columbus/2023-12-25/data/reviews.csv.gz\n",
      "Success:  203457 rows,  http://data.insideairbnb.com/united-states/tx/dallas/2023-12-18/data/reviews.csv.gz\n",
      "Success:  296564 rows,  http://data.insideairbnb.com/united-states/co/denver/2023-12-29/data/reviews.csv.gz\n",
      "Success:  68804 rows,  http://data.insideairbnb.com/united-states/tx/fort-worth/2023-12-15/data/reviews.csv.gz\n",
      "Success:  1157272 rows,  http://data.insideairbnb.com/united-states/hi/hawaii/2023-12-15/data/reviews.csv.gz\n",
      "Success:  48958 rows,  http://data.insideairbnb.com/united-states/nj/jersey-city/2023-12-22/data/reviews.csv.gz\n",
      "Success:  1528123 rows,  http://data.insideairbnb.com/united-states/ca/los-angeles/2023-12-03/data/reviews.csv.gz\n",
      "Success:  626097 rows,  http://data.insideairbnb.com/united-states/tn/nashville/2023-12-18/data/reviews.csv.gz\n",
      "Success:  445858 rows,  http://data.insideairbnb.com/united-states/la/new-orleans/2023-12-03/data/reviews.csv.gz\n",
      "Success:  986810 rows,  http://data.insideairbnb.com/united-states/ny/new-york-city/2024-02-06/data/reviews.csv.gz\n",
      "Success:  45885 rows,  http://data.insideairbnb.com/united-states/nj/newark/2023-12-30/data/reviews.csv.gz\n",
      "Success:  125842 rows,  http://data.insideairbnb.com/united-states/ca/oakland/2023-12-20/data/reviews.csv.gz\n",
      "Success:  22354 rows,  http://data.insideairbnb.com/united-states/ca/pacific-grove/2023-12-31/data/reviews.csv.gz\n",
      "Success:  470436 rows,  http://data.insideairbnb.com/united-states/or/portland/2023-12-20/data/reviews.csv.gz\n",
      "Success:  210331 rows,  http://data.insideairbnb.com/united-states/ri/rhode-island/2023-12-30/data/reviews.csv.gz\n",
      "Success:  39755 rows,  http://data.insideairbnb.com/united-states/ny/rochester/2023-12-20/data/reviews.csv.gz\n",
      "Success:  16395 rows,  http://data.insideairbnb.com/united-states/or/salem-or/2023-12-22/data/reviews.csv.gz\n",
      "Success:  769744 rows,  http://data.insideairbnb.com/united-states/ca/san-diego/2023-12-04/data/reviews.csv.gz\n",
      "Success:  378989 rows,  http://data.insideairbnb.com/united-states/ca/san-francisco/2023-12-04/data/reviews.csv.gz\n",
      "Success:  190773 rows,  http://data.insideairbnb.com/united-states/ca/san-mateo-county/2023-12-22/data/reviews.csv.gz\n",
      "Success:  223716 rows,  http://data.insideairbnb.com/united-states/ca/santa-clara-county/2023-12-23/data/reviews.csv.gz\n",
      "Success:  148907 rows,  http://data.insideairbnb.com/united-states/ca/santa-cruz-county/2023-12-30/data/reviews.csv.gz\n",
      "Success:  468790 rows,  http://data.insideairbnb.com/united-states/wa/seattle/2023-12-20/data/reviews.csv.gz\n",
      "Success:  237070 rows,  http://data.insideairbnb.com/united-states/mn/twin-cities-msa/2023-12-20/data/reviews.csv.gz\n",
      "Success:  382008 rows,  http://data.insideairbnb.com/united-states/dc/washington-dc/2023-12-18/data/reviews.csv.gz\n"
     ]
    },
    {
     "ename": "BadGzipFile",
     "evalue": "Not a gzipped file (b'id')",
     "output_type": "error",
     "traceback": [
      "\u001b[0;31m---------------------------------------------------------------------------\u001b[0m",
      "\u001b[0;31mBadGzipFile\u001b[0m                               Traceback (most recent call last)",
      "Cell \u001b[0;32mIn[4], line 14\u001b[0m\n\u001b[1;32m     12\u001b[0m \u001b[38;5;66;03m# crawler\u001b[39;00m\n\u001b[1;32m     13\u001b[0m url \u001b[38;5;241m=\u001b[39m loc_url\u001b[38;5;241m+\u001b[39mfile_type\n\u001b[0;32m---> 14\u001b[0m csv_file \u001b[38;5;241m=\u001b[39m \u001b[43mdownload_and_extract\u001b[49m\u001b[43m(\u001b[49m\u001b[43murl\u001b[49m\u001b[43m)\u001b[49m\n\u001b[1;32m     15\u001b[0m \u001b[38;5;28;01mif\u001b[39;00m csv_file:\n\u001b[1;32m     16\u001b[0m     \u001b[38;5;66;03m# Load the CSV file into a Pandas DataFrame\u001b[39;00m\n\u001b[1;32m     17\u001b[0m     df \u001b[38;5;241m=\u001b[39m pd\u001b[38;5;241m.\u001b[39mread_csv(BytesIO(csv_file))\n",
      "Cell \u001b[0;32mIn[2], line 11\u001b[0m, in \u001b[0;36mdownload_and_extract\u001b[0;34m(url)\u001b[0m\n\u001b[1;32m      8\u001b[0m     \u001b[38;5;66;03m# Open the gzip file\u001b[39;00m\n\u001b[1;32m      9\u001b[0m     \u001b[38;5;28;01mwith\u001b[39;00m gzip\u001b[38;5;241m.\u001b[39mopen(BytesIO(response\u001b[38;5;241m.\u001b[39mcontent), \u001b[38;5;124m'\u001b[39m\u001b[38;5;124mrb\u001b[39m\u001b[38;5;124m'\u001b[39m) \u001b[38;5;28;01mas\u001b[39;00m f:\n\u001b[1;32m     10\u001b[0m         \u001b[38;5;66;03m# Read the contents of the gzip file\u001b[39;00m\n\u001b[0;32m---> 11\u001b[0m         file_content \u001b[38;5;241m=\u001b[39m \u001b[43mf\u001b[49m\u001b[38;5;241;43m.\u001b[39;49m\u001b[43mread\u001b[49m\u001b[43m(\u001b[49m\u001b[43m)\u001b[49m\n\u001b[1;32m     12\u001b[0m     \u001b[38;5;28;01mreturn\u001b[39;00m file_content\n\u001b[1;32m     13\u001b[0m \u001b[38;5;28;01melse\u001b[39;00m:\n\u001b[1;32m     14\u001b[0m     \u001b[38;5;66;03m# Request was not successful, print error message\u001b[39;00m\n",
      "File \u001b[0;32m~/anaconda3/lib/python3.11/gzip.py:301\u001b[0m, in \u001b[0;36mGzipFile.read\u001b[0;34m(self, size)\u001b[0m\n\u001b[1;32m    299\u001b[0m     \u001b[38;5;28;01mimport\u001b[39;00m \u001b[38;5;21;01merrno\u001b[39;00m\n\u001b[1;32m    300\u001b[0m     \u001b[38;5;28;01mraise\u001b[39;00m \u001b[38;5;167;01mOSError\u001b[39;00m(errno\u001b[38;5;241m.\u001b[39mEBADF, \u001b[38;5;124m\"\u001b[39m\u001b[38;5;124mread() on write-only GzipFile object\u001b[39m\u001b[38;5;124m\"\u001b[39m)\n\u001b[0;32m--> 301\u001b[0m \u001b[38;5;28;01mreturn\u001b[39;00m \u001b[38;5;28mself\u001b[39m\u001b[38;5;241m.\u001b[39m_buffer\u001b[38;5;241m.\u001b[39mread(size)\n",
      "File \u001b[0;32m~/anaconda3/lib/python3.11/_compression.py:118\u001b[0m, in \u001b[0;36mDecompressReader.readall\u001b[0;34m(self)\u001b[0m\n\u001b[1;32m    114\u001b[0m chunks \u001b[38;5;241m=\u001b[39m []\n\u001b[1;32m    115\u001b[0m \u001b[38;5;66;03m# sys.maxsize means the max length of output buffer is unlimited,\u001b[39;00m\n\u001b[1;32m    116\u001b[0m \u001b[38;5;66;03m# so that the whole input buffer can be decompressed within one\u001b[39;00m\n\u001b[1;32m    117\u001b[0m \u001b[38;5;66;03m# .decompress() call.\u001b[39;00m\n\u001b[0;32m--> 118\u001b[0m \u001b[38;5;28;01mwhile\u001b[39;00m data \u001b[38;5;241m:=\u001b[39m \u001b[38;5;28;43mself\u001b[39;49m\u001b[38;5;241;43m.\u001b[39;49m\u001b[43mread\u001b[49m\u001b[43m(\u001b[49m\u001b[43msys\u001b[49m\u001b[38;5;241;43m.\u001b[39;49m\u001b[43mmaxsize\u001b[49m\u001b[43m)\u001b[49m:\n\u001b[1;32m    119\u001b[0m     chunks\u001b[38;5;241m.\u001b[39mappend(data)\n\u001b[1;32m    121\u001b[0m \u001b[38;5;28;01mreturn\u001b[39;00m \u001b[38;5;124mb\u001b[39m\u001b[38;5;124m\"\u001b[39m\u001b[38;5;124m\"\u001b[39m\u001b[38;5;241m.\u001b[39mjoin(chunks)\n",
      "File \u001b[0;32m~/anaconda3/lib/python3.11/gzip.py:499\u001b[0m, in \u001b[0;36m_GzipReader.read\u001b[0;34m(self, size)\u001b[0m\n\u001b[1;32m    495\u001b[0m \u001b[38;5;28;01mif\u001b[39;00m \u001b[38;5;28mself\u001b[39m\u001b[38;5;241m.\u001b[39m_new_member:\n\u001b[1;32m    496\u001b[0m     \u001b[38;5;66;03m# If the _new_member flag is set, we have to\u001b[39;00m\n\u001b[1;32m    497\u001b[0m     \u001b[38;5;66;03m# jump to the next member, if there is one.\u001b[39;00m\n\u001b[1;32m    498\u001b[0m     \u001b[38;5;28mself\u001b[39m\u001b[38;5;241m.\u001b[39m_init_read()\n\u001b[0;32m--> 499\u001b[0m     \u001b[38;5;28;01mif\u001b[39;00m \u001b[38;5;129;01mnot\u001b[39;00m \u001b[38;5;28;43mself\u001b[39;49m\u001b[38;5;241;43m.\u001b[39;49m\u001b[43m_read_gzip_header\u001b[49m\u001b[43m(\u001b[49m\u001b[43m)\u001b[49m:\n\u001b[1;32m    500\u001b[0m         \u001b[38;5;28mself\u001b[39m\u001b[38;5;241m.\u001b[39m_size \u001b[38;5;241m=\u001b[39m \u001b[38;5;28mself\u001b[39m\u001b[38;5;241m.\u001b[39m_pos\n\u001b[1;32m    501\u001b[0m         \u001b[38;5;28;01mreturn\u001b[39;00m \u001b[38;5;124mb\u001b[39m\u001b[38;5;124m\"\u001b[39m\u001b[38;5;124m\"\u001b[39m\n",
      "File \u001b[0;32m~/anaconda3/lib/python3.11/gzip.py:468\u001b[0m, in \u001b[0;36m_GzipReader._read_gzip_header\u001b[0;34m(self)\u001b[0m\n\u001b[1;32m    467\u001b[0m \u001b[38;5;28;01mdef\u001b[39;00m \u001b[38;5;21m_read_gzip_header\u001b[39m(\u001b[38;5;28mself\u001b[39m):\n\u001b[0;32m--> 468\u001b[0m     last_mtime \u001b[38;5;241m=\u001b[39m \u001b[43m_read_gzip_header\u001b[49m\u001b[43m(\u001b[49m\u001b[38;5;28;43mself\u001b[39;49m\u001b[38;5;241;43m.\u001b[39;49m\u001b[43m_fp\u001b[49m\u001b[43m)\u001b[49m\n\u001b[1;32m    469\u001b[0m     \u001b[38;5;28;01mif\u001b[39;00m last_mtime \u001b[38;5;129;01mis\u001b[39;00m \u001b[38;5;28;01mNone\u001b[39;00m:\n\u001b[1;32m    470\u001b[0m         \u001b[38;5;28;01mreturn\u001b[39;00m \u001b[38;5;28;01mFalse\u001b[39;00m\n",
      "File \u001b[0;32m~/anaconda3/lib/python3.11/gzip.py:428\u001b[0m, in \u001b[0;36m_read_gzip_header\u001b[0;34m(fp)\u001b[0m\n\u001b[1;32m    425\u001b[0m     \u001b[38;5;28;01mreturn\u001b[39;00m \u001b[38;5;28;01mNone\u001b[39;00m\n\u001b[1;32m    427\u001b[0m \u001b[38;5;28;01mif\u001b[39;00m magic \u001b[38;5;241m!=\u001b[39m \u001b[38;5;124mb\u001b[39m\u001b[38;5;124m'\u001b[39m\u001b[38;5;130;01m\\037\u001b[39;00m\u001b[38;5;130;01m\\213\u001b[39;00m\u001b[38;5;124m'\u001b[39m:\n\u001b[0;32m--> 428\u001b[0m     \u001b[38;5;28;01mraise\u001b[39;00m BadGzipFile(\u001b[38;5;124m'\u001b[39m\u001b[38;5;124mNot a gzipped file (\u001b[39m\u001b[38;5;132;01m%r\u001b[39;00m\u001b[38;5;124m)\u001b[39m\u001b[38;5;124m'\u001b[39m \u001b[38;5;241m%\u001b[39m magic)\n\u001b[1;32m    430\u001b[0m (method, flag, last_mtime) \u001b[38;5;241m=\u001b[39m struct\u001b[38;5;241m.\u001b[39munpack(\u001b[38;5;124m\"\u001b[39m\u001b[38;5;124m<BBIxx\u001b[39m\u001b[38;5;124m\"\u001b[39m, _read_exact(fp, \u001b[38;5;241m8\u001b[39m))\n\u001b[1;32m    431\u001b[0m \u001b[38;5;28;01mif\u001b[39;00m method \u001b[38;5;241m!=\u001b[39m \u001b[38;5;241m8\u001b[39m:\n",
      "\u001b[0;31mBadGzipFile\u001b[0m: Not a gzipped file (b'id')"
     ]
    }
   ],
   "source": [
    "# Set up logging configuration\n",
    "logging.basicConfig(filename='GetData.log', level=logging.INFO, format='%(asctime)s - %(levelname)s - %(message)s')\n",
    "\n",
    "for file_type in file_ls:\n",
    "    us_data = None\n",
    "    \n",
    "    for loc_url in location_url_ls:\n",
    "        state = loc_url.split('/')[-5]\n",
    "        city = loc_url.split('/')[-4]\n",
    "        data_date = loc_url.split('/')[-3]\n",
    "        \n",
    "        # crawler\n",
    "        url = loc_url+file_type\n",
    "        csv_file = download_and_extract(url)\n",
    "        if csv_file:\n",
    "            # Load the CSV file into a Pandas DataFrame\n",
    "            df = pd.read_csv(BytesIO(csv_file))\n",
    "            \n",
    "            # data process\n",
    "            df['state'] = state\n",
    "            df['city'] = city\n",
    "            df['data_date'] = data_date\n",
    "            if us_data is None:\n",
    "                us_data = df.copy()\n",
    "            else:\n",
    "                us_data = pd.concat([us_data, df], ignore_index=True)\n",
    "            \n",
    "            logging.info(url+f'; {df.shape[0]} rows')\n",
    "            print('Success: ',f'{df.shape[0]} rows, ',url)\n",
    "        else:\n",
    "            print('Failure: ',url)\n",
    "            logging.error(url)\n",
    "    us_data.to_csv('data/'+url.split('/')[-1].replace('.gz', ''),index=False)"
   ]
  },
  {
   "cell_type": "markdown",
   "id": "df8d1a3b-bed3-4409-9cc3-2b2225c9dd64",
   "metadata": {
    "tags": []
   },
   "source": [
    "# Get Detailed Listing/Calendar/Review Data"
   ]
  },
  {
   "cell_type": "code",
   "execution_count": 2,
   "id": "c75e0c8f-88af-4e68-94fe-b26cb3f1214c",
   "metadata": {},
   "outputs": [],
   "source": [
    "def download_and_extract(url):\n",
    "    # Send a GET request to the URL\n",
    "    response = requests.get(url)\n",
    "    # Check if the request was successful\n",
    "    if response.status_code == 200:\n",
    "        # Extract filename from the URL\n",
    "        filename = url.split('/')[-1].replace('.gz', '')\n",
    "        # Open the gzip file\n",
    "        with gzip.open(BytesIO(response.content), 'rb') as f:\n",
    "            # Read the contents of the gzip file\n",
    "            file_content = f.read()\n",
    "        return file_content\n",
    "    else:\n",
    "        # Request was not successful, print error message\n",
    "        print(\"Failed to download the file from the provided URL.\")\n",
    "        return None"
   ]
  },
  {
   "cell_type": "code",
   "execution_count": 3,
   "id": "a6b4b78c-d8af-460c-82a6-1125e3b71059",
   "metadata": {},
   "outputs": [],
   "source": [
    "file_ls = ['listings.csv.gz','calendar.csv.gz','reviews.csv.gz']\n",
    "location_url_ls = ['http://data.insideairbnb.com/united-states/ny/albany/2024-01-06/data/',\n",
    "                    'http://data.insideairbnb.com/united-states/nc/asheville/2023-12-18/data/',\n",
    "                    'http://data.insideairbnb.com/united-states/tx/austin/2023-12-15/data/',\n",
    "                    'http://data.insideairbnb.com/united-states/ma/boston/2023-12-18/data/',\n",
    "                    'http://data.insideairbnb.com/united-states/mt/bozeman/2023-12-10/data/',\n",
    "                    'http://data.insideairbnb.com/united-states/fl/broward-county/2023-12-25/data/',\n",
    "                    'http://data.insideairbnb.com/united-states/ma/cambridge/2023-12-26/data/',\n",
    "                    'http://data.insideairbnb.com/united-states/il/chicago/2023-12-18/data/',\n",
    "                    'http://data.insideairbnb.com/united-states/nv/clark-county-nv/2023-12-20/data/',\n",
    "                    'http://data.insideairbnb.com/united-states/oh/columbus/2023-12-25/data/',\n",
    "                    'http://data.insideairbnb.com/united-states/tx/dallas/2023-12-18/data/',\n",
    "                    'http://data.insideairbnb.com/united-states/co/denver/2023-12-29/data/',\n",
    "                    'http://data.insideairbnb.com/united-states/tx/fort-worth/2023-12-15/data/',\n",
    "                    'http://data.insideairbnb.com/united-states/hi/hawaii/2023-12-15/data/',\n",
    "                    'http://data.insideairbnb.com/united-states/nj/jersey-city/2023-12-22/data/',\n",
    "                    'http://data.insideairbnb.com/united-states/ca/los-angeles/2023-12-03/data/',\n",
    "                    'http://data.insideairbnb.com/united-states/tn/nashville/2023-12-18/data/',\n",
    "                    'http://data.insideairbnb.com/united-states/la/new-orleans/2023-12-03/data/',\n",
    "                    'http://data.insideairbnb.com/united-states/ny/new-york-city/2024-02-06/data/',\n",
    "                    'http://data.insideairbnb.com/united-states/nj/newark/2023-12-30/data/',\n",
    "                    'http://data.insideairbnb.com/united-states/ca/oakland/2023-12-20/data/',\n",
    "                    'http://data.insideairbnb.com/united-states/ca/pacific-grove/2023-12-31/data/',\n",
    "                    'http://data.insideairbnb.com/united-states/or/portland/2023-12-20/data/',\n",
    "                    'http://data.insideairbnb.com/united-states/ri/rhode-island/2023-12-30/data/',\n",
    "                    'http://data.insideairbnb.com/united-states/ny/rochester/2023-12-20/data/',\n",
    "                    'http://data.insideairbnb.com/united-states/or/salem-or/2023-12-22/data/',\n",
    "                    'http://data.insideairbnb.com/united-states/ca/san-diego/2023-12-04/data/',\n",
    "                    'http://data.insideairbnb.com/united-states/ca/san-francisco/2023-12-04/data/',\n",
    "                    'http://data.insideairbnb.com/united-states/ca/san-mateo-county/2023-12-22/data/',\n",
    "                    'http://data.insideairbnb.com/united-states/ca/santa-clara-county/2023-12-23/data/',\n",
    "                    'http://data.insideairbnb.com/united-states/ca/santa-cruz-county/2023-12-30/data/',\n",
    "                    'http://data.insideairbnb.com/united-states/wa/seattle/2023-12-20/data/',\n",
    "                    'http://data.insideairbnb.com/united-states/mn/twin-cities-msa/2023-12-20/data/',\n",
    "                    'http://data.insideairbnb.com/united-states/dc/washington-dc/2023-12-18/data/']"
   ]
  },
  {
   "cell_type": "code",
   "execution_count": 4,
   "id": "d0010487-ee56-45df-9c72-d2ef227df65d",
   "metadata": {},
   "outputs": [
    {
     "name": "stdout",
     "output_type": "stream",
     "text": [
      "Success:  410 rows,  http://data.insideairbnb.com/united-states/ny/albany/2024-01-06/data/listings.csv.gz\n",
      "Success:  3329 rows,  http://data.insideairbnb.com/united-states/nc/asheville/2023-12-18/data/listings.csv.gz\n",
      "Success:  15419 rows,  http://data.insideairbnb.com/united-states/tx/austin/2023-12-15/data/listings.csv.gz\n",
      "Success:  4204 rows,  http://data.insideairbnb.com/united-states/ma/boston/2023-12-18/data/listings.csv.gz\n",
      "Success:  594 rows,  http://data.insideairbnb.com/united-states/mt/bozeman/2023-12-10/data/listings.csv.gz\n"
     ]
    },
    {
     "name": "stderr",
     "output_type": "stream",
     "text": [
      "/var/folders/4m/_hrbkn4n1136mxjddxj_xssr0000gp/T/ipykernel_974/75775745.py:17: DtypeWarning: Columns (68) have mixed types. Specify dtype option on import or set low_memory=False.\n",
      "  df = pd.read_csv(BytesIO(csv_file))\n"
     ]
    },
    {
     "name": "stdout",
     "output_type": "stream",
     "text": [
      "Success:  18230 rows,  http://data.insideairbnb.com/united-states/fl/broward-county/2023-12-25/data/listings.csv.gz\n",
      "Success:  1130 rows,  http://data.insideairbnb.com/united-states/ma/cambridge/2023-12-26/data/listings.csv.gz\n",
      "Success:  8949 rows,  http://data.insideairbnb.com/united-states/il/chicago/2023-12-18/data/listings.csv.gz\n",
      "Success:  17414 rows,  http://data.insideairbnb.com/united-states/nv/clark-county-nv/2023-12-20/data/listings.csv.gz\n",
      "Success:  2668 rows,  http://data.insideairbnb.com/united-states/oh/columbus/2023-12-25/data/listings.csv.gz\n",
      "Success:  5642 rows,  http://data.insideairbnb.com/united-states/tx/dallas/2023-12-18/data/listings.csv.gz\n",
      "Success:  4971 rows,  http://data.insideairbnb.com/united-states/co/denver/2023-12-29/data/listings.csv.gz\n",
      "Success:  1871 rows,  http://data.insideairbnb.com/united-states/tx/fort-worth/2023-12-15/data/listings.csv.gz\n",
      "Success:  34040 rows,  http://data.insideairbnb.com/united-states/hi/hawaii/2023-12-15/data/listings.csv.gz\n",
      "Success:  1549 rows,  http://data.insideairbnb.com/united-states/nj/jersey-city/2023-12-22/data/listings.csv.gz\n",
      "Success:  45591 rows,  http://data.insideairbnb.com/united-states/ca/los-angeles/2023-12-03/data/listings.csv.gz\n",
      "Success:  8850 rows,  http://data.insideairbnb.com/united-states/tn/nashville/2023-12-18/data/listings.csv.gz\n",
      "Success:  7075 rows,  http://data.insideairbnb.com/united-states/la/new-orleans/2023-12-03/data/listings.csv.gz\n",
      "Success:  39202 rows,  http://data.insideairbnb.com/united-states/ny/new-york-city/2024-02-06/data/listings.csv.gz\n",
      "Success:  1700 rows,  http://data.insideairbnb.com/united-states/nj/newark/2023-12-30/data/listings.csv.gz\n",
      "Success:  2749 rows,  http://data.insideairbnb.com/united-states/ca/oakland/2023-12-20/data/listings.csv.gz\n",
      "Success:  239 rows,  http://data.insideairbnb.com/united-states/ca/pacific-grove/2023-12-31/data/listings.csv.gz\n",
      "Success:  4945 rows,  http://data.insideairbnb.com/united-states/or/portland/2023-12-20/data/listings.csv.gz\n",
      "Success:  4839 rows,  http://data.insideairbnb.com/united-states/ri/rhode-island/2023-12-30/data/listings.csv.gz\n",
      "Success:  1037 rows,  http://data.insideairbnb.com/united-states/ny/rochester/2023-12-20/data/listings.csv.gz\n",
      "Success:  336 rows,  http://data.insideairbnb.com/united-states/or/salem-or/2023-12-22/data/listings.csv.gz\n",
      "Success:  12819 rows,  http://data.insideairbnb.com/united-states/ca/san-diego/2023-12-04/data/listings.csv.gz\n",
      "Success:  8056 rows,  http://data.insideairbnb.com/united-states/ca/san-francisco/2023-12-04/data/listings.csv.gz\n",
      "Success:  3530 rows,  http://data.insideairbnb.com/united-states/ca/san-mateo-county/2023-12-22/data/listings.csv.gz\n",
      "Success:  6948 rows,  http://data.insideairbnb.com/united-states/ca/santa-clara-county/2023-12-23/data/listings.csv.gz\n",
      "Success:  1651 rows,  http://data.insideairbnb.com/united-states/ca/santa-cruz-county/2023-12-30/data/listings.csv.gz\n",
      "Success:  6882 rows,  http://data.insideairbnb.com/united-states/wa/seattle/2023-12-20/data/listings.csv.gz\n",
      "Success:  5464 rows,  http://data.insideairbnb.com/united-states/mn/twin-cities-msa/2023-12-20/data/listings.csv.gz\n",
      "Success:  6853 rows,  http://data.insideairbnb.com/united-states/dc/washington-dc/2023-12-18/data/listings.csv.gz\n",
      "Success:  149650 rows,  http://data.insideairbnb.com/united-states/ny/albany/2024-01-06/data/calendar.csv.gz\n"
     ]
    },
    {
     "name": "stderr",
     "output_type": "stream",
     "text": [
      "/var/folders/4m/_hrbkn4n1136mxjddxj_xssr0000gp/T/ipykernel_974/75775745.py:17: DtypeWarning: Columns (4) have mixed types. Specify dtype option on import or set low_memory=False.\n",
      "  df = pd.read_csv(BytesIO(csv_file))\n"
     ]
    },
    {
     "name": "stdout",
     "output_type": "stream",
     "text": [
      "Success:  1215271 rows,  http://data.insideairbnb.com/united-states/nc/asheville/2023-12-18/data/calendar.csv.gz\n"
     ]
    },
    {
     "name": "stderr",
     "output_type": "stream",
     "text": [
      "/var/folders/4m/_hrbkn4n1136mxjddxj_xssr0000gp/T/ipykernel_974/75775745.py:17: DtypeWarning: Columns (4) have mixed types. Specify dtype option on import or set low_memory=False.\n",
      "  df = pd.read_csv(BytesIO(csv_file))\n"
     ]
    },
    {
     "name": "stdout",
     "output_type": "stream",
     "text": [
      "Success:  5628526 rows,  http://data.insideairbnb.com/united-states/tx/austin/2023-12-15/data/calendar.csv.gz\n",
      "Success:  1534396 rows,  http://data.insideairbnb.com/united-states/ma/boston/2023-12-18/data/calendar.csv.gz\n"
     ]
    },
    {
     "name": "stderr",
     "output_type": "stream",
     "text": [
      "/var/folders/4m/_hrbkn4n1136mxjddxj_xssr0000gp/T/ipykernel_974/75775745.py:17: DtypeWarning: Columns (3) have mixed types. Specify dtype option on import or set low_memory=False.\n",
      "  df = pd.read_csv(BytesIO(csv_file))\n"
     ]
    },
    {
     "name": "stdout",
     "output_type": "stream",
     "text": [
      "Success:  216810 rows,  http://data.insideairbnb.com/united-states/mt/bozeman/2023-12-10/data/calendar.csv.gz\n"
     ]
    },
    {
     "name": "stderr",
     "output_type": "stream",
     "text": [
      "/var/folders/4m/_hrbkn4n1136mxjddxj_xssr0000gp/T/ipykernel_974/75775745.py:17: DtypeWarning: Columns (4) have mixed types. Specify dtype option on import or set low_memory=False.\n",
      "  df = pd.read_csv(BytesIO(csv_file))\n"
     ]
    },
    {
     "name": "stdout",
     "output_type": "stream",
     "text": [
      "Success:  6655138 rows,  http://data.insideairbnb.com/united-states/fl/broward-county/2023-12-25/data/calendar.csv.gz\n",
      "Success:  412456 rows,  http://data.insideairbnb.com/united-states/ma/cambridge/2023-12-26/data/calendar.csv.gz\n"
     ]
    },
    {
     "name": "stderr",
     "output_type": "stream",
     "text": [
      "/var/folders/4m/_hrbkn4n1136mxjddxj_xssr0000gp/T/ipykernel_974/75775745.py:17: DtypeWarning: Columns (4) have mixed types. Specify dtype option on import or set low_memory=False.\n",
      "  df = pd.read_csv(BytesIO(csv_file))\n"
     ]
    },
    {
     "name": "stdout",
     "output_type": "stream",
     "text": [
      "Success:  3266145 rows,  http://data.insideairbnb.com/united-states/il/chicago/2023-12-18/data/calendar.csv.gz\n"
     ]
    },
    {
     "name": "stderr",
     "output_type": "stream",
     "text": [
      "/var/folders/4m/_hrbkn4n1136mxjddxj_xssr0000gp/T/ipykernel_974/75775745.py:17: DtypeWarning: Columns (4) have mixed types. Specify dtype option on import or set low_memory=False.\n",
      "  df = pd.read_csv(BytesIO(csv_file))\n"
     ]
    },
    {
     "name": "stdout",
     "output_type": "stream",
     "text": [
      "Success:  6357331 rows,  http://data.insideairbnb.com/united-states/nv/clark-county-nv/2023-12-20/data/calendar.csv.gz\n",
      "Success:  974078 rows,  http://data.insideairbnb.com/united-states/oh/columbus/2023-12-25/data/calendar.csv.gz\n",
      "Success:  2059330 rows,  http://data.insideairbnb.com/united-states/tx/dallas/2023-12-18/data/calendar.csv.gz\n",
      "Success:  1814226 rows,  http://data.insideairbnb.com/united-states/co/denver/2023-12-29/data/calendar.csv.gz\n",
      "Success:  682915 rows,  http://data.insideairbnb.com/united-states/tx/fort-worth/2023-12-15/data/calendar.csv.gz\n"
     ]
    },
    {
     "name": "stderr",
     "output_type": "stream",
     "text": [
      "/var/folders/4m/_hrbkn4n1136mxjddxj_xssr0000gp/T/ipykernel_974/75775745.py:17: DtypeWarning: Columns (4) have mixed types. Specify dtype option on import or set low_memory=False.\n",
      "  df = pd.read_csv(BytesIO(csv_file))\n"
     ]
    },
    {
     "name": "stdout",
     "output_type": "stream",
     "text": [
      "Success:  12421910 rows,  http://data.insideairbnb.com/united-states/hi/hawaii/2023-12-15/data/calendar.csv.gz\n",
      "Success:  565501 rows,  http://data.insideairbnb.com/united-states/nj/jersey-city/2023-12-22/data/calendar.csv.gz\n"
     ]
    },
    {
     "name": "stderr",
     "output_type": "stream",
     "text": [
      "/var/folders/4m/_hrbkn4n1136mxjddxj_xssr0000gp/T/ipykernel_974/75775745.py:17: DtypeWarning: Columns (3,4) have mixed types. Specify dtype option on import or set low_memory=False.\n",
      "  df = pd.read_csv(BytesIO(csv_file))\n"
     ]
    },
    {
     "name": "stdout",
     "output_type": "stream",
     "text": [
      "Success:  16643832 rows,  http://data.insideairbnb.com/united-states/ca/los-angeles/2023-12-03/data/calendar.csv.gz\n",
      "Success:  3229903 rows,  http://data.insideairbnb.com/united-states/tn/nashville/2023-12-18/data/calendar.csv.gz\n",
      "Success:  2582375 rows,  http://data.insideairbnb.com/united-states/la/new-orleans/2023-12-03/data/calendar.csv.gz\n"
     ]
    },
    {
     "name": "stderr",
     "output_type": "stream",
     "text": [
      "/var/folders/4m/_hrbkn4n1136mxjddxj_xssr0000gp/T/ipykernel_974/75775745.py:17: DtypeWarning: Columns (4) have mixed types. Specify dtype option on import or set low_memory=False.\n",
      "  df = pd.read_csv(BytesIO(csv_file))\n"
     ]
    },
    {
     "name": "stdout",
     "output_type": "stream",
     "text": [
      "Success:  14299870 rows,  http://data.insideairbnb.com/united-states/ny/new-york-city/2024-02-06/data/calendar.csv.gz\n",
      "Success:  620643 rows,  http://data.insideairbnb.com/united-states/nj/newark/2023-12-30/data/calendar.csv.gz\n",
      "Success:  1003542 rows,  http://data.insideairbnb.com/united-states/ca/oakland/2023-12-20/data/calendar.csv.gz\n",
      "Success:  87235 rows,  http://data.insideairbnb.com/united-states/ca/pacific-grove/2023-12-31/data/calendar.csv.gz\n",
      "Success:  1804925 rows,  http://data.insideairbnb.com/united-states/or/portland/2023-12-20/data/calendar.csv.gz\n"
     ]
    },
    {
     "name": "stderr",
     "output_type": "stream",
     "text": [
      "/var/folders/4m/_hrbkn4n1136mxjddxj_xssr0000gp/T/ipykernel_974/75775745.py:17: DtypeWarning: Columns (4) have mixed types. Specify dtype option on import or set low_memory=False.\n",
      "  df = pd.read_csv(BytesIO(csv_file))\n"
     ]
    },
    {
     "name": "stdout",
     "output_type": "stream",
     "text": [
      "Success:  1766450 rows,  http://data.insideairbnb.com/united-states/ri/rhode-island/2023-12-30/data/calendar.csv.gz\n",
      "Success:  378505 rows,  http://data.insideairbnb.com/united-states/ny/rochester/2023-12-20/data/calendar.csv.gz\n",
      "Success:  122640 rows,  http://data.insideairbnb.com/united-states/or/salem-or/2023-12-22/data/calendar.csv.gz\n"
     ]
    },
    {
     "name": "stderr",
     "output_type": "stream",
     "text": [
      "/var/folders/4m/_hrbkn4n1136mxjddxj_xssr0000gp/T/ipykernel_974/75775745.py:17: DtypeWarning: Columns (3,4) have mixed types. Specify dtype option on import or set low_memory=False.\n",
      "  df = pd.read_csv(BytesIO(csv_file))\n"
     ]
    },
    {
     "name": "stdout",
     "output_type": "stream",
     "text": [
      "Success:  4680308 rows,  http://data.insideairbnb.com/united-states/ca/san-diego/2023-12-04/data/calendar.csv.gz\n"
     ]
    },
    {
     "name": "stderr",
     "output_type": "stream",
     "text": [
      "/var/folders/4m/_hrbkn4n1136mxjddxj_xssr0000gp/T/ipykernel_974/75775745.py:17: DtypeWarning: Columns (3,4) have mixed types. Specify dtype option on import or set low_memory=False.\n",
      "  df = pd.read_csv(BytesIO(csv_file))\n"
     ]
    },
    {
     "name": "stdout",
     "output_type": "stream",
     "text": [
      "Success:  2940438 rows,  http://data.insideairbnb.com/united-states/ca/san-francisco/2023-12-04/data/calendar.csv.gz\n"
     ]
    },
    {
     "name": "stderr",
     "output_type": "stream",
     "text": [
      "/var/folders/4m/_hrbkn4n1136mxjddxj_xssr0000gp/T/ipykernel_974/75775745.py:17: DtypeWarning: Columns (4) have mixed types. Specify dtype option on import or set low_memory=False.\n",
      "  df = pd.read_csv(BytesIO(csv_file))\n"
     ]
    },
    {
     "name": "stdout",
     "output_type": "stream",
     "text": [
      "Success:  1288727 rows,  http://data.insideairbnb.com/united-states/ca/san-mateo-county/2023-12-22/data/calendar.csv.gz\n"
     ]
    },
    {
     "name": "stderr",
     "output_type": "stream",
     "text": [
      "/var/folders/4m/_hrbkn4n1136mxjddxj_xssr0000gp/T/ipykernel_974/75775745.py:17: DtypeWarning: Columns (4) have mixed types. Specify dtype option on import or set low_memory=False.\n",
      "  df = pd.read_csv(BytesIO(csv_file))\n"
     ]
    },
    {
     "name": "stdout",
     "output_type": "stream",
     "text": [
      "Success:  2536020 rows,  http://data.insideairbnb.com/united-states/ca/santa-clara-county/2023-12-23/data/calendar.csv.gz\n",
      "Success:  602615 rows,  http://data.insideairbnb.com/united-states/ca/santa-cruz-county/2023-12-30/data/calendar.csv.gz\n",
      "Success:  2512306 rows,  http://data.insideairbnb.com/united-states/wa/seattle/2023-12-20/data/calendar.csv.gz\n",
      "Success:  1994360 rows,  http://data.insideairbnb.com/united-states/mn/twin-cities-msa/2023-12-20/data/calendar.csv.gz\n",
      "Success:  2500945 rows,  http://data.insideairbnb.com/united-states/dc/washington-dc/2023-12-18/data/calendar.csv.gz\n",
      "Success:  21879 rows,  http://data.insideairbnb.com/united-states/ny/albany/2024-01-06/data/reviews.csv.gz\n",
      "Success:  335803 rows,  http://data.insideairbnb.com/united-states/nc/asheville/2023-12-18/data/reviews.csv.gz\n",
      "Success:  586441 rows,  http://data.insideairbnb.com/united-states/tx/austin/2023-12-15/data/reviews.csv.gz\n",
      "Success:  182482 rows,  http://data.insideairbnb.com/united-states/ma/boston/2023-12-18/data/reviews.csv.gz\n",
      "Success:  34095 rows,  http://data.insideairbnb.com/united-states/mt/bozeman/2023-12-10/data/reviews.csv.gz\n",
      "Success:  522927 rows,  http://data.insideairbnb.com/united-states/fl/broward-county/2023-12-25/data/reviews.csv.gz\n",
      "Success:  56737 rows,  http://data.insideairbnb.com/united-states/ma/cambridge/2023-12-26/data/reviews.csv.gz\n",
      "Success:  418573 rows,  http://data.insideairbnb.com/united-states/il/chicago/2023-12-18/data/reviews.csv.gz\n",
      "Success:  512200 rows,  http://data.insideairbnb.com/united-states/nv/clark-county-nv/2023-12-20/data/reviews.csv.gz\n",
      "Success:  133644 rows,  http://data.insideairbnb.com/united-states/oh/columbus/2023-12-25/data/reviews.csv.gz\n",
      "Success:  203457 rows,  http://data.insideairbnb.com/united-states/tx/dallas/2023-12-18/data/reviews.csv.gz\n",
      "Success:  296564 rows,  http://data.insideairbnb.com/united-states/co/denver/2023-12-29/data/reviews.csv.gz\n",
      "Success:  68804 rows,  http://data.insideairbnb.com/united-states/tx/fort-worth/2023-12-15/data/reviews.csv.gz\n",
      "Success:  1157272 rows,  http://data.insideairbnb.com/united-states/hi/hawaii/2023-12-15/data/reviews.csv.gz\n",
      "Success:  48958 rows,  http://data.insideairbnb.com/united-states/nj/jersey-city/2023-12-22/data/reviews.csv.gz\n",
      "Success:  1528123 rows,  http://data.insideairbnb.com/united-states/ca/los-angeles/2023-12-03/data/reviews.csv.gz\n",
      "Success:  626097 rows,  http://data.insideairbnb.com/united-states/tn/nashville/2023-12-18/data/reviews.csv.gz\n",
      "Success:  445858 rows,  http://data.insideairbnb.com/united-states/la/new-orleans/2023-12-03/data/reviews.csv.gz\n",
      "Success:  986810 rows,  http://data.insideairbnb.com/united-states/ny/new-york-city/2024-02-06/data/reviews.csv.gz\n",
      "Success:  45885 rows,  http://data.insideairbnb.com/united-states/nj/newark/2023-12-30/data/reviews.csv.gz\n",
      "Success:  125842 rows,  http://data.insideairbnb.com/united-states/ca/oakland/2023-12-20/data/reviews.csv.gz\n",
      "Success:  22354 rows,  http://data.insideairbnb.com/united-states/ca/pacific-grove/2023-12-31/data/reviews.csv.gz\n",
      "Success:  470436 rows,  http://data.insideairbnb.com/united-states/or/portland/2023-12-20/data/reviews.csv.gz\n",
      "Success:  210331 rows,  http://data.insideairbnb.com/united-states/ri/rhode-island/2023-12-30/data/reviews.csv.gz\n",
      "Success:  39755 rows,  http://data.insideairbnb.com/united-states/ny/rochester/2023-12-20/data/reviews.csv.gz\n",
      "Success:  16395 rows,  http://data.insideairbnb.com/united-states/or/salem-or/2023-12-22/data/reviews.csv.gz\n",
      "Success:  769744 rows,  http://data.insideairbnb.com/united-states/ca/san-diego/2023-12-04/data/reviews.csv.gz\n",
      "Success:  378989 rows,  http://data.insideairbnb.com/united-states/ca/san-francisco/2023-12-04/data/reviews.csv.gz\n",
      "Success:  190773 rows,  http://data.insideairbnb.com/united-states/ca/san-mateo-county/2023-12-22/data/reviews.csv.gz\n",
      "Success:  223716 rows,  http://data.insideairbnb.com/united-states/ca/santa-clara-county/2023-12-23/data/reviews.csv.gz\n",
      "Success:  148907 rows,  http://data.insideairbnb.com/united-states/ca/santa-cruz-county/2023-12-30/data/reviews.csv.gz\n",
      "Success:  468790 rows,  http://data.insideairbnb.com/united-states/wa/seattle/2023-12-20/data/reviews.csv.gz\n",
      "Success:  237070 rows,  http://data.insideairbnb.com/united-states/mn/twin-cities-msa/2023-12-20/data/reviews.csv.gz\n",
      "Success:  382008 rows,  http://data.insideairbnb.com/united-states/dc/washington-dc/2023-12-18/data/reviews.csv.gz\n"
     ]
    },
    {
     "ename": "BadGzipFile",
     "evalue": "Not a gzipped file (b'id')",
     "output_type": "error",
     "traceback": [
      "\u001b[0;31m---------------------------------------------------------------------------\u001b[0m",
      "\u001b[0;31mBadGzipFile\u001b[0m                               Traceback (most recent call last)",
      "Cell \u001b[0;32mIn[4], line 14\u001b[0m\n\u001b[1;32m     12\u001b[0m \u001b[38;5;66;03m# crawler\u001b[39;00m\n\u001b[1;32m     13\u001b[0m url \u001b[38;5;241m=\u001b[39m loc_url\u001b[38;5;241m+\u001b[39mfile_type\n\u001b[0;32m---> 14\u001b[0m csv_file \u001b[38;5;241m=\u001b[39m \u001b[43mdownload_and_extract\u001b[49m\u001b[43m(\u001b[49m\u001b[43murl\u001b[49m\u001b[43m)\u001b[49m\n\u001b[1;32m     15\u001b[0m \u001b[38;5;28;01mif\u001b[39;00m csv_file:\n\u001b[1;32m     16\u001b[0m     \u001b[38;5;66;03m# Load the CSV file into a Pandas DataFrame\u001b[39;00m\n\u001b[1;32m     17\u001b[0m     df \u001b[38;5;241m=\u001b[39m pd\u001b[38;5;241m.\u001b[39mread_csv(BytesIO(csv_file))\n",
      "Cell \u001b[0;32mIn[2], line 11\u001b[0m, in \u001b[0;36mdownload_and_extract\u001b[0;34m(url)\u001b[0m\n\u001b[1;32m      8\u001b[0m     \u001b[38;5;66;03m# Open the gzip file\u001b[39;00m\n\u001b[1;32m      9\u001b[0m     \u001b[38;5;28;01mwith\u001b[39;00m gzip\u001b[38;5;241m.\u001b[39mopen(BytesIO(response\u001b[38;5;241m.\u001b[39mcontent), \u001b[38;5;124m'\u001b[39m\u001b[38;5;124mrb\u001b[39m\u001b[38;5;124m'\u001b[39m) \u001b[38;5;28;01mas\u001b[39;00m f:\n\u001b[1;32m     10\u001b[0m         \u001b[38;5;66;03m# Read the contents of the gzip file\u001b[39;00m\n\u001b[0;32m---> 11\u001b[0m         file_content \u001b[38;5;241m=\u001b[39m \u001b[43mf\u001b[49m\u001b[38;5;241;43m.\u001b[39;49m\u001b[43mread\u001b[49m\u001b[43m(\u001b[49m\u001b[43m)\u001b[49m\n\u001b[1;32m     12\u001b[0m     \u001b[38;5;28;01mreturn\u001b[39;00m file_content\n\u001b[1;32m     13\u001b[0m \u001b[38;5;28;01melse\u001b[39;00m:\n\u001b[1;32m     14\u001b[0m     \u001b[38;5;66;03m# Request was not successful, print error message\u001b[39;00m\n",
      "File \u001b[0;32m~/anaconda3/lib/python3.11/gzip.py:301\u001b[0m, in \u001b[0;36mGzipFile.read\u001b[0;34m(self, size)\u001b[0m\n\u001b[1;32m    299\u001b[0m     \u001b[38;5;28;01mimport\u001b[39;00m \u001b[38;5;21;01merrno\u001b[39;00m\n\u001b[1;32m    300\u001b[0m     \u001b[38;5;28;01mraise\u001b[39;00m \u001b[38;5;167;01mOSError\u001b[39;00m(errno\u001b[38;5;241m.\u001b[39mEBADF, \u001b[38;5;124m\"\u001b[39m\u001b[38;5;124mread() on write-only GzipFile object\u001b[39m\u001b[38;5;124m\"\u001b[39m)\n\u001b[0;32m--> 301\u001b[0m \u001b[38;5;28;01mreturn\u001b[39;00m \u001b[38;5;28mself\u001b[39m\u001b[38;5;241m.\u001b[39m_buffer\u001b[38;5;241m.\u001b[39mread(size)\n",
      "File \u001b[0;32m~/anaconda3/lib/python3.11/_compression.py:118\u001b[0m, in \u001b[0;36mDecompressReader.readall\u001b[0;34m(self)\u001b[0m\n\u001b[1;32m    114\u001b[0m chunks \u001b[38;5;241m=\u001b[39m []\n\u001b[1;32m    115\u001b[0m \u001b[38;5;66;03m# sys.maxsize means the max length of output buffer is unlimited,\u001b[39;00m\n\u001b[1;32m    116\u001b[0m \u001b[38;5;66;03m# so that the whole input buffer can be decompressed within one\u001b[39;00m\n\u001b[1;32m    117\u001b[0m \u001b[38;5;66;03m# .decompress() call.\u001b[39;00m\n\u001b[0;32m--> 118\u001b[0m \u001b[38;5;28;01mwhile\u001b[39;00m data \u001b[38;5;241m:=\u001b[39m \u001b[38;5;28;43mself\u001b[39;49m\u001b[38;5;241;43m.\u001b[39;49m\u001b[43mread\u001b[49m\u001b[43m(\u001b[49m\u001b[43msys\u001b[49m\u001b[38;5;241;43m.\u001b[39;49m\u001b[43mmaxsize\u001b[49m\u001b[43m)\u001b[49m:\n\u001b[1;32m    119\u001b[0m     chunks\u001b[38;5;241m.\u001b[39mappend(data)\n\u001b[1;32m    121\u001b[0m \u001b[38;5;28;01mreturn\u001b[39;00m \u001b[38;5;124mb\u001b[39m\u001b[38;5;124m\"\u001b[39m\u001b[38;5;124m\"\u001b[39m\u001b[38;5;241m.\u001b[39mjoin(chunks)\n",
      "File \u001b[0;32m~/anaconda3/lib/python3.11/gzip.py:499\u001b[0m, in \u001b[0;36m_GzipReader.read\u001b[0;34m(self, size)\u001b[0m\n\u001b[1;32m    495\u001b[0m \u001b[38;5;28;01mif\u001b[39;00m \u001b[38;5;28mself\u001b[39m\u001b[38;5;241m.\u001b[39m_new_member:\n\u001b[1;32m    496\u001b[0m     \u001b[38;5;66;03m# If the _new_member flag is set, we have to\u001b[39;00m\n\u001b[1;32m    497\u001b[0m     \u001b[38;5;66;03m# jump to the next member, if there is one.\u001b[39;00m\n\u001b[1;32m    498\u001b[0m     \u001b[38;5;28mself\u001b[39m\u001b[38;5;241m.\u001b[39m_init_read()\n\u001b[0;32m--> 499\u001b[0m     \u001b[38;5;28;01mif\u001b[39;00m \u001b[38;5;129;01mnot\u001b[39;00m \u001b[38;5;28;43mself\u001b[39;49m\u001b[38;5;241;43m.\u001b[39;49m\u001b[43m_read_gzip_header\u001b[49m\u001b[43m(\u001b[49m\u001b[43m)\u001b[49m:\n\u001b[1;32m    500\u001b[0m         \u001b[38;5;28mself\u001b[39m\u001b[38;5;241m.\u001b[39m_size \u001b[38;5;241m=\u001b[39m \u001b[38;5;28mself\u001b[39m\u001b[38;5;241m.\u001b[39m_pos\n\u001b[1;32m    501\u001b[0m         \u001b[38;5;28;01mreturn\u001b[39;00m \u001b[38;5;124mb\u001b[39m\u001b[38;5;124m\"\u001b[39m\u001b[38;5;124m\"\u001b[39m\n",
      "File \u001b[0;32m~/anaconda3/lib/python3.11/gzip.py:468\u001b[0m, in \u001b[0;36m_GzipReader._read_gzip_header\u001b[0;34m(self)\u001b[0m\n\u001b[1;32m    467\u001b[0m \u001b[38;5;28;01mdef\u001b[39;00m \u001b[38;5;21m_read_gzip_header\u001b[39m(\u001b[38;5;28mself\u001b[39m):\n\u001b[0;32m--> 468\u001b[0m     last_mtime \u001b[38;5;241m=\u001b[39m \u001b[43m_read_gzip_header\u001b[49m\u001b[43m(\u001b[49m\u001b[38;5;28;43mself\u001b[39;49m\u001b[38;5;241;43m.\u001b[39;49m\u001b[43m_fp\u001b[49m\u001b[43m)\u001b[49m\n\u001b[1;32m    469\u001b[0m     \u001b[38;5;28;01mif\u001b[39;00m last_mtime \u001b[38;5;129;01mis\u001b[39;00m \u001b[38;5;28;01mNone\u001b[39;00m:\n\u001b[1;32m    470\u001b[0m         \u001b[38;5;28;01mreturn\u001b[39;00m \u001b[38;5;28;01mFalse\u001b[39;00m\n",
      "File \u001b[0;32m~/anaconda3/lib/python3.11/gzip.py:428\u001b[0m, in \u001b[0;36m_read_gzip_header\u001b[0;34m(fp)\u001b[0m\n\u001b[1;32m    425\u001b[0m     \u001b[38;5;28;01mreturn\u001b[39;00m \u001b[38;5;28;01mNone\u001b[39;00m\n\u001b[1;32m    427\u001b[0m \u001b[38;5;28;01mif\u001b[39;00m magic \u001b[38;5;241m!=\u001b[39m \u001b[38;5;124mb\u001b[39m\u001b[38;5;124m'\u001b[39m\u001b[38;5;130;01m\\037\u001b[39;00m\u001b[38;5;130;01m\\213\u001b[39;00m\u001b[38;5;124m'\u001b[39m:\n\u001b[0;32m--> 428\u001b[0m     \u001b[38;5;28;01mraise\u001b[39;00m BadGzipFile(\u001b[38;5;124m'\u001b[39m\u001b[38;5;124mNot a gzipped file (\u001b[39m\u001b[38;5;132;01m%r\u001b[39;00m\u001b[38;5;124m)\u001b[39m\u001b[38;5;124m'\u001b[39m \u001b[38;5;241m%\u001b[39m magic)\n\u001b[1;32m    430\u001b[0m (method, flag, last_mtime) \u001b[38;5;241m=\u001b[39m struct\u001b[38;5;241m.\u001b[39munpack(\u001b[38;5;124m\"\u001b[39m\u001b[38;5;124m<BBIxx\u001b[39m\u001b[38;5;124m\"\u001b[39m, _read_exact(fp, \u001b[38;5;241m8\u001b[39m))\n\u001b[1;32m    431\u001b[0m \u001b[38;5;28;01mif\u001b[39;00m method \u001b[38;5;241m!=\u001b[39m \u001b[38;5;241m8\u001b[39m:\n",
      "\u001b[0;31mBadGzipFile\u001b[0m: Not a gzipped file (b'id')"
     ]
    }
   ],
   "source": [
    "# Set up logging configuration\n",
    "logging.basicConfig(filename='GetData.log', level=logging.INFO, format='%(asctime)s - %(levelname)s - %(message)s')\n",
    "\n",
    "for file_type in file_ls:\n",
    "    us_data = None\n",
    "    \n",
    "    for loc_url in location_url_ls:\n",
    "        state = loc_url.split('/')[-5]\n",
    "        city = loc_url.split('/')[-4]\n",
    "        data_date = loc_url.split('/')[-3]\n",
    "        \n",
    "        # crawler\n",
    "        url = loc_url+file_type\n",
    "        csv_file = download_and_extract(url)\n",
    "        if csv_file:\n",
    "            # Load the CSV file into a Pandas DataFrame\n",
    "            df = pd.read_csv(BytesIO(csv_file))\n",
    "            \n",
    "            # data process\n",
    "            df['state'] = state\n",
    "            df['city'] = city\n",
    "            df['data_date'] = data_date\n",
    "            if us_data is None:\n",
    "                us_data = df.copy()\n",
    "            else:\n",
    "                us_data = pd.concat([us_data, df], ignore_index=True)\n",
    "            \n",
    "            logging.info(url+f'; {df.shape[0]} rows')\n",
    "            print('Success: ',f'{df.shape[0]} rows, ',url)\n",
    "        else:\n",
    "            print('Failure: ',url)\n",
    "            logging.error(url)\n",
    "    us_data.to_csv('data/'+url.split('/')[-1].replace('.gz', ''),index=False)"
   ]
  },
  {
   "cell_type": "markdown",
   "id": "5a946a5f-bd95-4c2d-b129-a949fefb6b2d",
   "metadata": {
    "jp-MarkdownHeadingCollapsed": true,
    "tags": []
   },
   "source": [
    "# Get summary information"
   ]
  },
  {
   "cell_type": "code",
   "execution_count": 6,
   "id": "6ac348e9-9ac5-4cc2-8b7f-f1acb39701e6",
   "metadata": {},
   "outputs": [],
   "source": [
    "file_ls = ['listings.csv','reviews.csv']\n",
    "location_url_ls = ['http://data.insideairbnb.com/united-states/ny/albany/2024-01-06/data/',\n",
    "                    'http://data.insideairbnb.com/united-states/nc/asheville/2023-12-18/data/',\n",
    "                    'http://data.insideairbnb.com/united-states/tx/austin/2023-12-15/data/',\n",
    "                    'http://data.insideairbnb.com/united-states/ma/boston/2023-12-18/data/',\n",
    "                    'http://data.insideairbnb.com/united-states/mt/bozeman/2023-12-10/data/',\n",
    "                    'http://data.insideairbnb.com/united-states/fl/broward-county/2023-12-25/data/',\n",
    "                    'http://data.insideairbnb.com/united-states/ma/cambridge/2023-12-26/data/',\n",
    "                    'http://data.insideairbnb.com/united-states/il/chicago/2023-12-18/data/',\n",
    "                    'http://data.insideairbnb.com/united-states/nv/clark-county-nv/2023-12-20/data/',\n",
    "                    'http://data.insideairbnb.com/united-states/oh/columbus/2023-12-25/data/',\n",
    "                    'http://data.insideairbnb.com/united-states/tx/dallas/2023-12-18/data/',\n",
    "                    'http://data.insideairbnb.com/united-states/co/denver/2023-12-29/data/',\n",
    "                    'http://data.insideairbnb.com/united-states/tx/fort-worth/2023-12-15/data/',\n",
    "                    'http://data.insideairbnb.com/united-states/hi/hawaii/2023-12-15/data/',\n",
    "                    'http://data.insideairbnb.com/united-states/nj/jersey-city/2023-12-22/data/',\n",
    "                    'http://data.insideairbnb.com/united-states/ca/los-angeles/2023-12-03/data/',\n",
    "                    'http://data.insideairbnb.com/united-states/tn/nashville/2023-12-18/data/',\n",
    "                    'http://data.insideairbnb.com/united-states/la/new-orleans/2023-12-03/data/',\n",
    "                    'http://data.insideairbnb.com/united-states/ny/new-york-city/2024-02-06/data/',\n",
    "                    'http://data.insideairbnb.com/united-states/nj/newark/2023-12-30/data/',\n",
    "                    'http://data.insideairbnb.com/united-states/ca/oakland/2023-12-20/data/',\n",
    "                    'http://data.insideairbnb.com/united-states/ca/pacific-grove/2023-12-31/data/',\n",
    "                    'http://data.insideairbnb.com/united-states/or/portland/2023-12-20/data/',\n",
    "                    'http://data.insideairbnb.com/united-states/ri/rhode-island/2023-12-30/data/',\n",
    "                    'http://data.insideairbnb.com/united-states/ny/rochester/2023-12-20/data/',\n",
    "                    'http://data.insideairbnb.com/united-states/or/salem-or/2023-12-22/data/',\n",
    "                    'http://data.insideairbnb.com/united-states/ca/san-diego/2023-12-04/data/',\n",
    "                    'http://data.insideairbnb.com/united-states/ca/san-francisco/2023-12-04/data/',\n",
    "                    'http://data.insideairbnb.com/united-states/ca/san-mateo-county/2023-12-22/data/',\n",
    "                    'http://data.insideairbnb.com/united-states/ca/santa-clara-county/2023-12-23/data/',\n",
    "                    'http://data.insideairbnb.com/united-states/ca/santa-cruz-county/2023-12-30/data/',\n",
    "                    'http://data.insideairbnb.com/united-states/wa/seattle/2023-12-20/data/',\n",
    "                    'http://data.insideairbnb.com/united-states/mn/twin-cities-msa/2023-12-20/data/',\n",
    "                    'http://data.insideairbnb.com/united-states/dc/washington-dc/2023-12-18/data/']"
   ]
  },
  {
   "cell_type": "code",
   "execution_count": 8,
   "id": "2016c21c-df5f-47ea-b2fd-8cd4847bc97f",
   "metadata": {},
   "outputs": [
    {
     "name": "stdout",
     "output_type": "stream",
     "text": [
      "Success:  410 rows,  http://data.insideairbnb.com/united-states/ny/albany/2024-01-06/data/listings.csv\n",
      "Success:  3329 rows,  http://data.insideairbnb.com/united-states/nc/asheville/2023-12-18/data/listings.csv\n",
      "Success:  15419 rows,  http://data.insideairbnb.com/united-states/tx/austin/2023-12-15/data/listings.csv\n",
      "Success:  4204 rows,  http://data.insideairbnb.com/united-states/ma/boston/2023-12-18/data/listings.csv\n",
      "Success:  594 rows,  http://data.insideairbnb.com/united-states/mt/bozeman/2023-12-10/data/listings.csv\n"
     ]
    },
    {
     "name": "stderr",
     "output_type": "stream",
     "text": [
      "/var/folders/4m/_hrbkn4n1136mxjddxj_xssr0000gp/T/ipykernel_974/2833885493.py:14: DtypeWarning: Columns (68) have mixed types. Specify dtype option on import or set low_memory=False.\n",
      "  csv_file = pd.read_csv(url)\n"
     ]
    },
    {
     "name": "stdout",
     "output_type": "stream",
     "text": [
      "Success:  18230 rows,  http://data.insideairbnb.com/united-states/fl/broward-county/2023-12-25/data/listings.csv\n",
      "Success:  1130 rows,  http://data.insideairbnb.com/united-states/ma/cambridge/2023-12-26/data/listings.csv\n",
      "Success:  8949 rows,  http://data.insideairbnb.com/united-states/il/chicago/2023-12-18/data/listings.csv\n",
      "Success:  17414 rows,  http://data.insideairbnb.com/united-states/nv/clark-county-nv/2023-12-20/data/listings.csv\n",
      "Success:  2668 rows,  http://data.insideairbnb.com/united-states/oh/columbus/2023-12-25/data/listings.csv\n",
      "Success:  5642 rows,  http://data.insideairbnb.com/united-states/tx/dallas/2023-12-18/data/listings.csv\n",
      "Success:  4971 rows,  http://data.insideairbnb.com/united-states/co/denver/2023-12-29/data/listings.csv\n",
      "Success:  1871 rows,  http://data.insideairbnb.com/united-states/tx/fort-worth/2023-12-15/data/listings.csv\n",
      "Success:  34040 rows,  http://data.insideairbnb.com/united-states/hi/hawaii/2023-12-15/data/listings.csv\n",
      "Success:  1549 rows,  http://data.insideairbnb.com/united-states/nj/jersey-city/2023-12-22/data/listings.csv\n",
      "Success:  45591 rows,  http://data.insideairbnb.com/united-states/ca/los-angeles/2023-12-03/data/listings.csv\n",
      "Success:  8850 rows,  http://data.insideairbnb.com/united-states/tn/nashville/2023-12-18/data/listings.csv\n",
      "Success:  7075 rows,  http://data.insideairbnb.com/united-states/la/new-orleans/2023-12-03/data/listings.csv\n",
      "Success:  39202 rows,  http://data.insideairbnb.com/united-states/ny/new-york-city/2024-02-06/data/listings.csv\n",
      "Success:  1700 rows,  http://data.insideairbnb.com/united-states/nj/newark/2023-12-30/data/listings.csv\n",
      "Success:  2749 rows,  http://data.insideairbnb.com/united-states/ca/oakland/2023-12-20/data/listings.csv\n",
      "Success:  239 rows,  http://data.insideairbnb.com/united-states/ca/pacific-grove/2023-12-31/data/listings.csv\n",
      "Success:  4945 rows,  http://data.insideairbnb.com/united-states/or/portland/2023-12-20/data/listings.csv\n",
      "Success:  4839 rows,  http://data.insideairbnb.com/united-states/ri/rhode-island/2023-12-30/data/listings.csv\n",
      "Success:  1037 rows,  http://data.insideairbnb.com/united-states/ny/rochester/2023-12-20/data/listings.csv\n",
      "Success:  336 rows,  http://data.insideairbnb.com/united-states/or/salem-or/2023-12-22/data/listings.csv\n",
      "Success:  12819 rows,  http://data.insideairbnb.com/united-states/ca/san-diego/2023-12-04/data/listings.csv\n",
      "Success:  8056 rows,  http://data.insideairbnb.com/united-states/ca/san-francisco/2023-12-04/data/listings.csv\n",
      "Success:  3530 rows,  http://data.insideairbnb.com/united-states/ca/san-mateo-county/2023-12-22/data/listings.csv\n",
      "Success:  6948 rows,  http://data.insideairbnb.com/united-states/ca/santa-clara-county/2023-12-23/data/listings.csv\n",
      "Success:  1651 rows,  http://data.insideairbnb.com/united-states/ca/santa-cruz-county/2023-12-30/data/listings.csv\n",
      "Success:  6882 rows,  http://data.insideairbnb.com/united-states/wa/seattle/2023-12-20/data/listings.csv\n",
      "Success:  5464 rows,  http://data.insideairbnb.com/united-states/mn/twin-cities-msa/2023-12-20/data/listings.csv\n",
      "Success:  6853 rows,  http://data.insideairbnb.com/united-states/dc/washington-dc/2023-12-18/data/listings.csv\n",
      "Success:  21879 rows,  http://data.insideairbnb.com/united-states/ny/albany/2024-01-06/data/reviews.csv\n",
      "Success:  335803 rows,  http://data.insideairbnb.com/united-states/nc/asheville/2023-12-18/data/reviews.csv\n",
      "Success:  586441 rows,  http://data.insideairbnb.com/united-states/tx/austin/2023-12-15/data/reviews.csv\n",
      "Success:  182482 rows,  http://data.insideairbnb.com/united-states/ma/boston/2023-12-18/data/reviews.csv\n",
      "Success:  34095 rows,  http://data.insideairbnb.com/united-states/mt/bozeman/2023-12-10/data/reviews.csv\n",
      "Success:  522927 rows,  http://data.insideairbnb.com/united-states/fl/broward-county/2023-12-25/data/reviews.csv\n",
      "Success:  56737 rows,  http://data.insideairbnb.com/united-states/ma/cambridge/2023-12-26/data/reviews.csv\n",
      "Success:  418573 rows,  http://data.insideairbnb.com/united-states/il/chicago/2023-12-18/data/reviews.csv\n",
      "Success:  512200 rows,  http://data.insideairbnb.com/united-states/nv/clark-county-nv/2023-12-20/data/reviews.csv\n",
      "Success:  133644 rows,  http://data.insideairbnb.com/united-states/oh/columbus/2023-12-25/data/reviews.csv\n",
      "Success:  203457 rows,  http://data.insideairbnb.com/united-states/tx/dallas/2023-12-18/data/reviews.csv\n",
      "Success:  296564 rows,  http://data.insideairbnb.com/united-states/co/denver/2023-12-29/data/reviews.csv\n",
      "Success:  68804 rows,  http://data.insideairbnb.com/united-states/tx/fort-worth/2023-12-15/data/reviews.csv\n",
      "Success:  1157272 rows,  http://data.insideairbnb.com/united-states/hi/hawaii/2023-12-15/data/reviews.csv\n",
      "Success:  48958 rows,  http://data.insideairbnb.com/united-states/nj/jersey-city/2023-12-22/data/reviews.csv\n",
      "Success:  1528123 rows,  http://data.insideairbnb.com/united-states/ca/los-angeles/2023-12-03/data/reviews.csv\n",
      "Success:  626097 rows,  http://data.insideairbnb.com/united-states/tn/nashville/2023-12-18/data/reviews.csv\n",
      "Success:  445858 rows,  http://data.insideairbnb.com/united-states/la/new-orleans/2023-12-03/data/reviews.csv\n",
      "Success:  986810 rows,  http://data.insideairbnb.com/united-states/ny/new-york-city/2024-02-06/data/reviews.csv\n",
      "Success:  45885 rows,  http://data.insideairbnb.com/united-states/nj/newark/2023-12-30/data/reviews.csv\n",
      "Success:  125842 rows,  http://data.insideairbnb.com/united-states/ca/oakland/2023-12-20/data/reviews.csv\n",
      "Success:  22354 rows,  http://data.insideairbnb.com/united-states/ca/pacific-grove/2023-12-31/data/reviews.csv\n",
      "Success:  470436 rows,  http://data.insideairbnb.com/united-states/or/portland/2023-12-20/data/reviews.csv\n",
      "Success:  210331 rows,  http://data.insideairbnb.com/united-states/ri/rhode-island/2023-12-30/data/reviews.csv\n",
      "Success:  39755 rows,  http://data.insideairbnb.com/united-states/ny/rochester/2023-12-20/data/reviews.csv\n",
      "Success:  16395 rows,  http://data.insideairbnb.com/united-states/or/salem-or/2023-12-22/data/reviews.csv\n",
      "Success:  769744 rows,  http://data.insideairbnb.com/united-states/ca/san-diego/2023-12-04/data/reviews.csv\n",
      "Success:  378989 rows,  http://data.insideairbnb.com/united-states/ca/san-francisco/2023-12-04/data/reviews.csv\n",
      "Success:  190773 rows,  http://data.insideairbnb.com/united-states/ca/san-mateo-county/2023-12-22/data/reviews.csv\n",
      "Success:  223716 rows,  http://data.insideairbnb.com/united-states/ca/santa-clara-county/2023-12-23/data/reviews.csv\n",
      "Success:  148907 rows,  http://data.insideairbnb.com/united-states/ca/santa-cruz-county/2023-12-30/data/reviews.csv\n",
      "Success:  468790 rows,  http://data.insideairbnb.com/united-states/wa/seattle/2023-12-20/data/reviews.csv\n",
      "Success:  237070 rows,  http://data.insideairbnb.com/united-states/mn/twin-cities-msa/2023-12-20/data/reviews.csv\n",
      "Success:  382008 rows,  http://data.insideairbnb.com/united-states/dc/washington-dc/2023-12-18/data/reviews.csv\n"
     ]
    },
    {
     "ename": "HTTPError",
     "evalue": "HTTP Error 404: Not Found",
     "output_type": "error",
     "traceback": [
      "\u001b[0;31m---------------------------------------------------------------------------\u001b[0m",
      "\u001b[0;31mHTTPError\u001b[0m                                 Traceback (most recent call last)",
      "Cell \u001b[0;32mIn[8], line 14\u001b[0m\n\u001b[1;32m     12\u001b[0m \u001b[38;5;66;03m# crawler\u001b[39;00m\n\u001b[1;32m     13\u001b[0m url \u001b[38;5;241m=\u001b[39m loc_url\u001b[38;5;241m+\u001b[39mfile_type\n\u001b[0;32m---> 14\u001b[0m csv_file \u001b[38;5;241m=\u001b[39m \u001b[43mpd\u001b[49m\u001b[38;5;241;43m.\u001b[39;49m\u001b[43mread_csv\u001b[49m\u001b[43m(\u001b[49m\u001b[43murl\u001b[49m\u001b[43m)\u001b[49m\n\u001b[1;32m     15\u001b[0m \u001b[38;5;28;01mif\u001b[39;00m csv_file \u001b[38;5;129;01mis\u001b[39;00m \u001b[38;5;129;01mnot\u001b[39;00m \u001b[38;5;28;01mNone\u001b[39;00m:\n\u001b[1;32m     16\u001b[0m     \u001b[38;5;66;03m# Load the CSV file into a Pandas DataFrame\u001b[39;00m\n\u001b[1;32m     17\u001b[0m     df \u001b[38;5;241m=\u001b[39m csv_file\n",
      "File \u001b[0;32m~/anaconda3/lib/python3.11/site-packages/pandas/io/parsers/readers.py:948\u001b[0m, in \u001b[0;36mread_csv\u001b[0;34m(filepath_or_buffer, sep, delimiter, header, names, index_col, usecols, dtype, engine, converters, true_values, false_values, skipinitialspace, skiprows, skipfooter, nrows, na_values, keep_default_na, na_filter, verbose, skip_blank_lines, parse_dates, infer_datetime_format, keep_date_col, date_parser, date_format, dayfirst, cache_dates, iterator, chunksize, compression, thousands, decimal, lineterminator, quotechar, quoting, doublequote, escapechar, comment, encoding, encoding_errors, dialect, on_bad_lines, delim_whitespace, low_memory, memory_map, float_precision, storage_options, dtype_backend)\u001b[0m\n\u001b[1;32m    935\u001b[0m kwds_defaults \u001b[38;5;241m=\u001b[39m _refine_defaults_read(\n\u001b[1;32m    936\u001b[0m     dialect,\n\u001b[1;32m    937\u001b[0m     delimiter,\n\u001b[0;32m   (...)\u001b[0m\n\u001b[1;32m    944\u001b[0m     dtype_backend\u001b[38;5;241m=\u001b[39mdtype_backend,\n\u001b[1;32m    945\u001b[0m )\n\u001b[1;32m    946\u001b[0m kwds\u001b[38;5;241m.\u001b[39mupdate(kwds_defaults)\n\u001b[0;32m--> 948\u001b[0m \u001b[38;5;28;01mreturn\u001b[39;00m \u001b[43m_read\u001b[49m\u001b[43m(\u001b[49m\u001b[43mfilepath_or_buffer\u001b[49m\u001b[43m,\u001b[49m\u001b[43m \u001b[49m\u001b[43mkwds\u001b[49m\u001b[43m)\u001b[49m\n",
      "File \u001b[0;32m~/anaconda3/lib/python3.11/site-packages/pandas/io/parsers/readers.py:611\u001b[0m, in \u001b[0;36m_read\u001b[0;34m(filepath_or_buffer, kwds)\u001b[0m\n\u001b[1;32m    608\u001b[0m _validate_names(kwds\u001b[38;5;241m.\u001b[39mget(\u001b[38;5;124m\"\u001b[39m\u001b[38;5;124mnames\u001b[39m\u001b[38;5;124m\"\u001b[39m, \u001b[38;5;28;01mNone\u001b[39;00m))\n\u001b[1;32m    610\u001b[0m \u001b[38;5;66;03m# Create the parser.\u001b[39;00m\n\u001b[0;32m--> 611\u001b[0m parser \u001b[38;5;241m=\u001b[39m \u001b[43mTextFileReader\u001b[49m\u001b[43m(\u001b[49m\u001b[43mfilepath_or_buffer\u001b[49m\u001b[43m,\u001b[49m\u001b[43m \u001b[49m\u001b[38;5;241;43m*\u001b[39;49m\u001b[38;5;241;43m*\u001b[39;49m\u001b[43mkwds\u001b[49m\u001b[43m)\u001b[49m\n\u001b[1;32m    613\u001b[0m \u001b[38;5;28;01mif\u001b[39;00m chunksize \u001b[38;5;129;01mor\u001b[39;00m iterator:\n\u001b[1;32m    614\u001b[0m     \u001b[38;5;28;01mreturn\u001b[39;00m parser\n",
      "File \u001b[0;32m~/anaconda3/lib/python3.11/site-packages/pandas/io/parsers/readers.py:1448\u001b[0m, in \u001b[0;36mTextFileReader.__init__\u001b[0;34m(self, f, engine, **kwds)\u001b[0m\n\u001b[1;32m   1445\u001b[0m     \u001b[38;5;28mself\u001b[39m\u001b[38;5;241m.\u001b[39moptions[\u001b[38;5;124m\"\u001b[39m\u001b[38;5;124mhas_index_names\u001b[39m\u001b[38;5;124m\"\u001b[39m] \u001b[38;5;241m=\u001b[39m kwds[\u001b[38;5;124m\"\u001b[39m\u001b[38;5;124mhas_index_names\u001b[39m\u001b[38;5;124m\"\u001b[39m]\n\u001b[1;32m   1447\u001b[0m \u001b[38;5;28mself\u001b[39m\u001b[38;5;241m.\u001b[39mhandles: IOHandles \u001b[38;5;241m|\u001b[39m \u001b[38;5;28;01mNone\u001b[39;00m \u001b[38;5;241m=\u001b[39m \u001b[38;5;28;01mNone\u001b[39;00m\n\u001b[0;32m-> 1448\u001b[0m \u001b[38;5;28mself\u001b[39m\u001b[38;5;241m.\u001b[39m_engine \u001b[38;5;241m=\u001b[39m \u001b[38;5;28;43mself\u001b[39;49m\u001b[38;5;241;43m.\u001b[39;49m\u001b[43m_make_engine\u001b[49m\u001b[43m(\u001b[49m\u001b[43mf\u001b[49m\u001b[43m,\u001b[49m\u001b[43m \u001b[49m\u001b[38;5;28;43mself\u001b[39;49m\u001b[38;5;241;43m.\u001b[39;49m\u001b[43mengine\u001b[49m\u001b[43m)\u001b[49m\n",
      "File \u001b[0;32m~/anaconda3/lib/python3.11/site-packages/pandas/io/parsers/readers.py:1705\u001b[0m, in \u001b[0;36mTextFileReader._make_engine\u001b[0;34m(self, f, engine)\u001b[0m\n\u001b[1;32m   1703\u001b[0m     \u001b[38;5;28;01mif\u001b[39;00m \u001b[38;5;124m\"\u001b[39m\u001b[38;5;124mb\u001b[39m\u001b[38;5;124m\"\u001b[39m \u001b[38;5;129;01mnot\u001b[39;00m \u001b[38;5;129;01min\u001b[39;00m mode:\n\u001b[1;32m   1704\u001b[0m         mode \u001b[38;5;241m+\u001b[39m\u001b[38;5;241m=\u001b[39m \u001b[38;5;124m\"\u001b[39m\u001b[38;5;124mb\u001b[39m\u001b[38;5;124m\"\u001b[39m\n\u001b[0;32m-> 1705\u001b[0m \u001b[38;5;28mself\u001b[39m\u001b[38;5;241m.\u001b[39mhandles \u001b[38;5;241m=\u001b[39m \u001b[43mget_handle\u001b[49m\u001b[43m(\u001b[49m\n\u001b[1;32m   1706\u001b[0m \u001b[43m    \u001b[49m\u001b[43mf\u001b[49m\u001b[43m,\u001b[49m\n\u001b[1;32m   1707\u001b[0m \u001b[43m    \u001b[49m\u001b[43mmode\u001b[49m\u001b[43m,\u001b[49m\n\u001b[1;32m   1708\u001b[0m \u001b[43m    \u001b[49m\u001b[43mencoding\u001b[49m\u001b[38;5;241;43m=\u001b[39;49m\u001b[38;5;28;43mself\u001b[39;49m\u001b[38;5;241;43m.\u001b[39;49m\u001b[43moptions\u001b[49m\u001b[38;5;241;43m.\u001b[39;49m\u001b[43mget\u001b[49m\u001b[43m(\u001b[49m\u001b[38;5;124;43m\"\u001b[39;49m\u001b[38;5;124;43mencoding\u001b[39;49m\u001b[38;5;124;43m\"\u001b[39;49m\u001b[43m,\u001b[49m\u001b[43m \u001b[49m\u001b[38;5;28;43;01mNone\u001b[39;49;00m\u001b[43m)\u001b[49m\u001b[43m,\u001b[49m\n\u001b[1;32m   1709\u001b[0m \u001b[43m    \u001b[49m\u001b[43mcompression\u001b[49m\u001b[38;5;241;43m=\u001b[39;49m\u001b[38;5;28;43mself\u001b[39;49m\u001b[38;5;241;43m.\u001b[39;49m\u001b[43moptions\u001b[49m\u001b[38;5;241;43m.\u001b[39;49m\u001b[43mget\u001b[49m\u001b[43m(\u001b[49m\u001b[38;5;124;43m\"\u001b[39;49m\u001b[38;5;124;43mcompression\u001b[39;49m\u001b[38;5;124;43m\"\u001b[39;49m\u001b[43m,\u001b[49m\u001b[43m \u001b[49m\u001b[38;5;28;43;01mNone\u001b[39;49;00m\u001b[43m)\u001b[49m\u001b[43m,\u001b[49m\n\u001b[1;32m   1710\u001b[0m \u001b[43m    \u001b[49m\u001b[43mmemory_map\u001b[49m\u001b[38;5;241;43m=\u001b[39;49m\u001b[38;5;28;43mself\u001b[39;49m\u001b[38;5;241;43m.\u001b[39;49m\u001b[43moptions\u001b[49m\u001b[38;5;241;43m.\u001b[39;49m\u001b[43mget\u001b[49m\u001b[43m(\u001b[49m\u001b[38;5;124;43m\"\u001b[39;49m\u001b[38;5;124;43mmemory_map\u001b[39;49m\u001b[38;5;124;43m\"\u001b[39;49m\u001b[43m,\u001b[49m\u001b[43m \u001b[49m\u001b[38;5;28;43;01mFalse\u001b[39;49;00m\u001b[43m)\u001b[49m\u001b[43m,\u001b[49m\n\u001b[1;32m   1711\u001b[0m \u001b[43m    \u001b[49m\u001b[43mis_text\u001b[49m\u001b[38;5;241;43m=\u001b[39;49m\u001b[43mis_text\u001b[49m\u001b[43m,\u001b[49m\n\u001b[1;32m   1712\u001b[0m \u001b[43m    \u001b[49m\u001b[43merrors\u001b[49m\u001b[38;5;241;43m=\u001b[39;49m\u001b[38;5;28;43mself\u001b[39;49m\u001b[38;5;241;43m.\u001b[39;49m\u001b[43moptions\u001b[49m\u001b[38;5;241;43m.\u001b[39;49m\u001b[43mget\u001b[49m\u001b[43m(\u001b[49m\u001b[38;5;124;43m\"\u001b[39;49m\u001b[38;5;124;43mencoding_errors\u001b[39;49m\u001b[38;5;124;43m\"\u001b[39;49m\u001b[43m,\u001b[49m\u001b[43m \u001b[49m\u001b[38;5;124;43m\"\u001b[39;49m\u001b[38;5;124;43mstrict\u001b[39;49m\u001b[38;5;124;43m\"\u001b[39;49m\u001b[43m)\u001b[49m\u001b[43m,\u001b[49m\n\u001b[1;32m   1713\u001b[0m \u001b[43m    \u001b[49m\u001b[43mstorage_options\u001b[49m\u001b[38;5;241;43m=\u001b[39;49m\u001b[38;5;28;43mself\u001b[39;49m\u001b[38;5;241;43m.\u001b[39;49m\u001b[43moptions\u001b[49m\u001b[38;5;241;43m.\u001b[39;49m\u001b[43mget\u001b[49m\u001b[43m(\u001b[49m\u001b[38;5;124;43m\"\u001b[39;49m\u001b[38;5;124;43mstorage_options\u001b[39;49m\u001b[38;5;124;43m\"\u001b[39;49m\u001b[43m,\u001b[49m\u001b[43m \u001b[49m\u001b[38;5;28;43;01mNone\u001b[39;49;00m\u001b[43m)\u001b[49m\u001b[43m,\u001b[49m\n\u001b[1;32m   1714\u001b[0m \u001b[43m\u001b[49m\u001b[43m)\u001b[49m\n\u001b[1;32m   1715\u001b[0m \u001b[38;5;28;01massert\u001b[39;00m \u001b[38;5;28mself\u001b[39m\u001b[38;5;241m.\u001b[39mhandles \u001b[38;5;129;01mis\u001b[39;00m \u001b[38;5;129;01mnot\u001b[39;00m \u001b[38;5;28;01mNone\u001b[39;00m\n\u001b[1;32m   1716\u001b[0m f \u001b[38;5;241m=\u001b[39m \u001b[38;5;28mself\u001b[39m\u001b[38;5;241m.\u001b[39mhandles\u001b[38;5;241m.\u001b[39mhandle\n",
      "File \u001b[0;32m~/anaconda3/lib/python3.11/site-packages/pandas/io/common.py:718\u001b[0m, in \u001b[0;36mget_handle\u001b[0;34m(path_or_buf, mode, encoding, compression, memory_map, is_text, errors, storage_options)\u001b[0m\n\u001b[1;32m    715\u001b[0m     codecs\u001b[38;5;241m.\u001b[39mlookup_error(errors)\n\u001b[1;32m    717\u001b[0m \u001b[38;5;66;03m# open URLs\u001b[39;00m\n\u001b[0;32m--> 718\u001b[0m ioargs \u001b[38;5;241m=\u001b[39m \u001b[43m_get_filepath_or_buffer\u001b[49m\u001b[43m(\u001b[49m\n\u001b[1;32m    719\u001b[0m \u001b[43m    \u001b[49m\u001b[43mpath_or_buf\u001b[49m\u001b[43m,\u001b[49m\n\u001b[1;32m    720\u001b[0m \u001b[43m    \u001b[49m\u001b[43mencoding\u001b[49m\u001b[38;5;241;43m=\u001b[39;49m\u001b[43mencoding\u001b[49m\u001b[43m,\u001b[49m\n\u001b[1;32m    721\u001b[0m \u001b[43m    \u001b[49m\u001b[43mcompression\u001b[49m\u001b[38;5;241;43m=\u001b[39;49m\u001b[43mcompression\u001b[49m\u001b[43m,\u001b[49m\n\u001b[1;32m    722\u001b[0m \u001b[43m    \u001b[49m\u001b[43mmode\u001b[49m\u001b[38;5;241;43m=\u001b[39;49m\u001b[43mmode\u001b[49m\u001b[43m,\u001b[49m\n\u001b[1;32m    723\u001b[0m \u001b[43m    \u001b[49m\u001b[43mstorage_options\u001b[49m\u001b[38;5;241;43m=\u001b[39;49m\u001b[43mstorage_options\u001b[49m\u001b[43m,\u001b[49m\n\u001b[1;32m    724\u001b[0m \u001b[43m\u001b[49m\u001b[43m)\u001b[49m\n\u001b[1;32m    726\u001b[0m handle \u001b[38;5;241m=\u001b[39m ioargs\u001b[38;5;241m.\u001b[39mfilepath_or_buffer\n\u001b[1;32m    727\u001b[0m handles: \u001b[38;5;28mlist\u001b[39m[BaseBuffer]\n",
      "File \u001b[0;32m~/anaconda3/lib/python3.11/site-packages/pandas/io/common.py:372\u001b[0m, in \u001b[0;36m_get_filepath_or_buffer\u001b[0;34m(filepath_or_buffer, encoding, compression, mode, storage_options)\u001b[0m\n\u001b[1;32m    370\u001b[0m \u001b[38;5;66;03m# assuming storage_options is to be interpreted as headers\u001b[39;00m\n\u001b[1;32m    371\u001b[0m req_info \u001b[38;5;241m=\u001b[39m urllib\u001b[38;5;241m.\u001b[39mrequest\u001b[38;5;241m.\u001b[39mRequest(filepath_or_buffer, headers\u001b[38;5;241m=\u001b[39mstorage_options)\n\u001b[0;32m--> 372\u001b[0m \u001b[38;5;28;01mwith\u001b[39;00m \u001b[43murlopen\u001b[49m\u001b[43m(\u001b[49m\u001b[43mreq_info\u001b[49m\u001b[43m)\u001b[49m \u001b[38;5;28;01mas\u001b[39;00m req:\n\u001b[1;32m    373\u001b[0m     content_encoding \u001b[38;5;241m=\u001b[39m req\u001b[38;5;241m.\u001b[39mheaders\u001b[38;5;241m.\u001b[39mget(\u001b[38;5;124m\"\u001b[39m\u001b[38;5;124mContent-Encoding\u001b[39m\u001b[38;5;124m\"\u001b[39m, \u001b[38;5;28;01mNone\u001b[39;00m)\n\u001b[1;32m    374\u001b[0m     \u001b[38;5;28;01mif\u001b[39;00m content_encoding \u001b[38;5;241m==\u001b[39m \u001b[38;5;124m\"\u001b[39m\u001b[38;5;124mgzip\u001b[39m\u001b[38;5;124m\"\u001b[39m:\n\u001b[1;32m    375\u001b[0m         \u001b[38;5;66;03m# Override compression based on Content-Encoding header\u001b[39;00m\n",
      "File \u001b[0;32m~/anaconda3/lib/python3.11/site-packages/pandas/io/common.py:274\u001b[0m, in \u001b[0;36murlopen\u001b[0;34m(*args, **kwargs)\u001b[0m\n\u001b[1;32m    268\u001b[0m \u001b[38;5;250m\u001b[39m\u001b[38;5;124;03m\"\"\"\u001b[39;00m\n\u001b[1;32m    269\u001b[0m \u001b[38;5;124;03mLazy-import wrapper for stdlib urlopen, as that imports a big chunk of\u001b[39;00m\n\u001b[1;32m    270\u001b[0m \u001b[38;5;124;03mthe stdlib.\u001b[39;00m\n\u001b[1;32m    271\u001b[0m \u001b[38;5;124;03m\"\"\"\u001b[39;00m\n\u001b[1;32m    272\u001b[0m \u001b[38;5;28;01mimport\u001b[39;00m \u001b[38;5;21;01murllib\u001b[39;00m\u001b[38;5;21;01m.\u001b[39;00m\u001b[38;5;21;01mrequest\u001b[39;00m\n\u001b[0;32m--> 274\u001b[0m \u001b[38;5;28;01mreturn\u001b[39;00m \u001b[43murllib\u001b[49m\u001b[38;5;241;43m.\u001b[39;49m\u001b[43mrequest\u001b[49m\u001b[38;5;241;43m.\u001b[39;49m\u001b[43murlopen\u001b[49m\u001b[43m(\u001b[49m\u001b[38;5;241;43m*\u001b[39;49m\u001b[43margs\u001b[49m\u001b[43m,\u001b[49m\u001b[43m \u001b[49m\u001b[38;5;241;43m*\u001b[39;49m\u001b[38;5;241;43m*\u001b[39;49m\u001b[43mkwargs\u001b[49m\u001b[43m)\u001b[49m\n",
      "File \u001b[0;32m~/anaconda3/lib/python3.11/urllib/request.py:216\u001b[0m, in \u001b[0;36murlopen\u001b[0;34m(url, data, timeout, cafile, capath, cadefault, context)\u001b[0m\n\u001b[1;32m    214\u001b[0m \u001b[38;5;28;01melse\u001b[39;00m:\n\u001b[1;32m    215\u001b[0m     opener \u001b[38;5;241m=\u001b[39m _opener\n\u001b[0;32m--> 216\u001b[0m \u001b[38;5;28;01mreturn\u001b[39;00m \u001b[43mopener\u001b[49m\u001b[38;5;241;43m.\u001b[39;49m\u001b[43mopen\u001b[49m\u001b[43m(\u001b[49m\u001b[43murl\u001b[49m\u001b[43m,\u001b[49m\u001b[43m \u001b[49m\u001b[43mdata\u001b[49m\u001b[43m,\u001b[49m\u001b[43m \u001b[49m\u001b[43mtimeout\u001b[49m\u001b[43m)\u001b[49m\n",
      "File \u001b[0;32m~/anaconda3/lib/python3.11/urllib/request.py:525\u001b[0m, in \u001b[0;36mOpenerDirector.open\u001b[0;34m(self, fullurl, data, timeout)\u001b[0m\n\u001b[1;32m    523\u001b[0m \u001b[38;5;28;01mfor\u001b[39;00m processor \u001b[38;5;129;01min\u001b[39;00m \u001b[38;5;28mself\u001b[39m\u001b[38;5;241m.\u001b[39mprocess_response\u001b[38;5;241m.\u001b[39mget(protocol, []):\n\u001b[1;32m    524\u001b[0m     meth \u001b[38;5;241m=\u001b[39m \u001b[38;5;28mgetattr\u001b[39m(processor, meth_name)\n\u001b[0;32m--> 525\u001b[0m     response \u001b[38;5;241m=\u001b[39m \u001b[43mmeth\u001b[49m\u001b[43m(\u001b[49m\u001b[43mreq\u001b[49m\u001b[43m,\u001b[49m\u001b[43m \u001b[49m\u001b[43mresponse\u001b[49m\u001b[43m)\u001b[49m\n\u001b[1;32m    527\u001b[0m \u001b[38;5;28;01mreturn\u001b[39;00m response\n",
      "File \u001b[0;32m~/anaconda3/lib/python3.11/urllib/request.py:634\u001b[0m, in \u001b[0;36mHTTPErrorProcessor.http_response\u001b[0;34m(self, request, response)\u001b[0m\n\u001b[1;32m    631\u001b[0m \u001b[38;5;66;03m# According to RFC 2616, \"2xx\" code indicates that the client's\u001b[39;00m\n\u001b[1;32m    632\u001b[0m \u001b[38;5;66;03m# request was successfully received, understood, and accepted.\u001b[39;00m\n\u001b[1;32m    633\u001b[0m \u001b[38;5;28;01mif\u001b[39;00m \u001b[38;5;129;01mnot\u001b[39;00m (\u001b[38;5;241m200\u001b[39m \u001b[38;5;241m<\u001b[39m\u001b[38;5;241m=\u001b[39m code \u001b[38;5;241m<\u001b[39m \u001b[38;5;241m300\u001b[39m):\n\u001b[0;32m--> 634\u001b[0m     response \u001b[38;5;241m=\u001b[39m \u001b[38;5;28;43mself\u001b[39;49m\u001b[38;5;241;43m.\u001b[39;49m\u001b[43mparent\u001b[49m\u001b[38;5;241;43m.\u001b[39;49m\u001b[43merror\u001b[49m\u001b[43m(\u001b[49m\n\u001b[1;32m    635\u001b[0m \u001b[43m        \u001b[49m\u001b[38;5;124;43m'\u001b[39;49m\u001b[38;5;124;43mhttp\u001b[39;49m\u001b[38;5;124;43m'\u001b[39;49m\u001b[43m,\u001b[49m\u001b[43m \u001b[49m\u001b[43mrequest\u001b[49m\u001b[43m,\u001b[49m\u001b[43m \u001b[49m\u001b[43mresponse\u001b[49m\u001b[43m,\u001b[49m\u001b[43m \u001b[49m\u001b[43mcode\u001b[49m\u001b[43m,\u001b[49m\u001b[43m \u001b[49m\u001b[43mmsg\u001b[49m\u001b[43m,\u001b[49m\u001b[43m \u001b[49m\u001b[43mhdrs\u001b[49m\u001b[43m)\u001b[49m\n\u001b[1;32m    637\u001b[0m \u001b[38;5;28;01mreturn\u001b[39;00m response\n",
      "File \u001b[0;32m~/anaconda3/lib/python3.11/urllib/request.py:563\u001b[0m, in \u001b[0;36mOpenerDirector.error\u001b[0;34m(self, proto, *args)\u001b[0m\n\u001b[1;32m    561\u001b[0m \u001b[38;5;28;01mif\u001b[39;00m http_err:\n\u001b[1;32m    562\u001b[0m     args \u001b[38;5;241m=\u001b[39m (\u001b[38;5;28mdict\u001b[39m, \u001b[38;5;124m'\u001b[39m\u001b[38;5;124mdefault\u001b[39m\u001b[38;5;124m'\u001b[39m, \u001b[38;5;124m'\u001b[39m\u001b[38;5;124mhttp_error_default\u001b[39m\u001b[38;5;124m'\u001b[39m) \u001b[38;5;241m+\u001b[39m orig_args\n\u001b[0;32m--> 563\u001b[0m     \u001b[38;5;28;01mreturn\u001b[39;00m \u001b[38;5;28;43mself\u001b[39;49m\u001b[38;5;241;43m.\u001b[39;49m\u001b[43m_call_chain\u001b[49m\u001b[43m(\u001b[49m\u001b[38;5;241;43m*\u001b[39;49m\u001b[43margs\u001b[49m\u001b[43m)\u001b[49m\n",
      "File \u001b[0;32m~/anaconda3/lib/python3.11/urllib/request.py:496\u001b[0m, in \u001b[0;36mOpenerDirector._call_chain\u001b[0;34m(self, chain, kind, meth_name, *args)\u001b[0m\n\u001b[1;32m    494\u001b[0m \u001b[38;5;28;01mfor\u001b[39;00m handler \u001b[38;5;129;01min\u001b[39;00m handlers:\n\u001b[1;32m    495\u001b[0m     func \u001b[38;5;241m=\u001b[39m \u001b[38;5;28mgetattr\u001b[39m(handler, meth_name)\n\u001b[0;32m--> 496\u001b[0m     result \u001b[38;5;241m=\u001b[39m \u001b[43mfunc\u001b[49m\u001b[43m(\u001b[49m\u001b[38;5;241;43m*\u001b[39;49m\u001b[43margs\u001b[49m\u001b[43m)\u001b[49m\n\u001b[1;32m    497\u001b[0m     \u001b[38;5;28;01mif\u001b[39;00m result \u001b[38;5;129;01mis\u001b[39;00m \u001b[38;5;129;01mnot\u001b[39;00m \u001b[38;5;28;01mNone\u001b[39;00m:\n\u001b[1;32m    498\u001b[0m         \u001b[38;5;28;01mreturn\u001b[39;00m result\n",
      "File \u001b[0;32m~/anaconda3/lib/python3.11/urllib/request.py:643\u001b[0m, in \u001b[0;36mHTTPDefaultErrorHandler.http_error_default\u001b[0;34m(self, req, fp, code, msg, hdrs)\u001b[0m\n\u001b[1;32m    642\u001b[0m \u001b[38;5;28;01mdef\u001b[39;00m \u001b[38;5;21mhttp_error_default\u001b[39m(\u001b[38;5;28mself\u001b[39m, req, fp, code, msg, hdrs):\n\u001b[0;32m--> 643\u001b[0m     \u001b[38;5;28;01mraise\u001b[39;00m HTTPError(req\u001b[38;5;241m.\u001b[39mfull_url, code, msg, hdrs, fp)\n",
      "\u001b[0;31mHTTPError\u001b[0m: HTTP Error 404: Not Found"
     ]
    }
   ],
   "source": [
    "# Set up logging configuration\n",
    "logging.basicConfig(filename='GetData_Summary.log', level=logging.INFO, format='%(asctime)s - %(levelname)s - %(message)s')\n",
    "\n",
    "for file_type in file_ls:\n",
    "    us_data = None\n",
    "    \n",
    "    for loc_url in location_url_ls:\n",
    "        state = loc_url.split('/')[-5]\n",
    "        city = loc_url.split('/')[-4]\n",
    "        data_date = loc_url.split('/')[-3]\n",
    "        \n",
    "        # crawler\n",
    "        url = loc_url+file_type\n",
    "        csv_file = pd.read_csv(url)\n",
    "        if csv_file is not None:\n",
    "            # Load the CSV file into a Pandas DataFrame\n",
    "            df = csv_file\n",
    "            \n",
    "            # data process\n",
    "            df['state'] = state\n",
    "            df['city'] = city\n",
    "            df['data_date'] = data_date\n",
    "            if us_data is None:\n",
    "                us_data = df.copy()\n",
    "            else:\n",
    "                us_data = pd.concat([us_data, df], ignore_index=True)\n",
    "            \n",
    "            logging.info(url+f'; {df.shape[0]} rows')\n",
    "            print('Success: ',f'{df.shape[0]} rows, ',url)\n",
    "        else:\n",
    "            print('Failure: ',url)\n",
    "            logging.error(url)\n",
    "    us_data.to_csv('data/SummaryData/'+url.split('/')[-1],index=False)"
   ]
  },
  {
   "cell_type": "markdown",
   "id": "f3728dbc-1baf-42fa-9598-417f8242e850",
   "metadata": {
    "jp-MarkdownHeadingCollapsed": true,
    "tags": []
   },
   "source": [
    "# Test"
   ]
  },
  {
   "cell_type": "code",
   "execution_count": 3,
   "id": "ee9631df-ba92-4222-9c99-e8a2a8a20f8a",
   "metadata": {},
   "outputs": [],
   "source": [
    "# test data\n",
    "file_ls = ['listings.csv.gz','calendar.csv.gz']\n",
    "location_url_ls = ['http://data.insideairbnb.com/united-states/ny/albany/2024-01-06/data/',\n",
    "                    'http://data.insideairbnb.com/united-states/nc/asheville/2023-12-18/data/']"
   ]
  },
  {
   "cell_type": "code",
   "execution_count": 5,
   "id": "6d851905-2b3f-475f-88f5-af8ee055e33f",
   "metadata": {},
   "outputs": [
    {
     "name": "stdout",
     "output_type": "stream",
     "text": [
      "Success:  410 rows,  http://data.insideairbnb.com/united-states/ny/albany/2024-01-06/data/listings.csv.gz\n",
      "Success:  3329 rows,  http://data.insideairbnb.com/united-states/nc/asheville/2023-12-18/data/listings.csv.gz\n",
      "Success:  149650 rows,  http://data.insideairbnb.com/united-states/ny/albany/2024-01-06/data/calendar.csv.gz\n"
     ]
    },
    {
     "name": "stderr",
     "output_type": "stream",
     "text": [
      "/var/folders/4m/_hrbkn4n1136mxjddxj_xssr0000gp/T/ipykernel_44135/1351835910.py:17: DtypeWarning: Columns (4) have mixed types. Specify dtype option on import or set low_memory=False.\n",
      "  df = pd.read_csv(BytesIO(csv_file))\n"
     ]
    },
    {
     "name": "stdout",
     "output_type": "stream",
     "text": [
      "Success:  1215271 rows,  http://data.insideairbnb.com/united-states/nc/asheville/2023-12-18/data/calendar.csv.gz\n"
     ]
    }
   ],
   "source": [
    "# Set up logging configuration\n",
    "logging.basicConfig(filename='TestGetData.log', level=logging.INFO, format='%(asctime)s - %(levelname)s - %(message)s')\n",
    "\n",
    "for file_type in file_ls:\n",
    "    us_data = None\n",
    "    \n",
    "    for loc_url in location_url_ls:\n",
    "        state = loc_url.split('/')[-5]\n",
    "        city = loc_url.split('/')[-4]\n",
    "        data_date = loc_url.split('/')[-3]\n",
    "        \n",
    "        # crawler\n",
    "        url = loc_url+file_type\n",
    "        csv_file = download_and_extract(url)\n",
    "        if csv_file:\n",
    "            # Load the CSV file into a Pandas DataFrame\n",
    "            df = pd.read_csv(BytesIO(csv_file))\n",
    "            \n",
    "            # data process\n",
    "            df['state'] = state\n",
    "            df['city'] = city\n",
    "            df['data_date'] = data_date\n",
    "            if us_data is None:\n",
    "                us_data = df.copy()\n",
    "            else:\n",
    "                us_data = pd.concat([us_data, df], ignore_index=True)\n",
    "            \n",
    "            logging.info(url+f'; {df.shape[0]} rows')\n",
    "            print('Success: ',f'{df.shape[0]} rows, ',url)\n",
    "        else:\n",
    "            print('Failure: ',url)\n",
    "            logging.error(url)\n",
    "    us_data.to_csv('Testdata/'+url.split('/')[-1].replace('.gz', ''),index=False)"
   ]
  },
  {
   "cell_type": "code",
   "execution_count": 7,
   "id": "73634fcc-c64a-420f-b57a-df0339dabbc7",
   "metadata": {},
   "outputs": [
    {
     "data": {
      "text/plain": [
       "(3739, 78)"
      ]
     },
     "execution_count": 7,
     "metadata": {},
     "output_type": "execute_result"
    }
   ],
   "source": [
    "test_df1 = pd.read_csv('TestData/listings.csv')\n",
    "test_df1.shape"
   ]
  },
  {
   "cell_type": "code",
   "execution_count": 9,
   "id": "458e483b-f4a7-453c-a60d-f117e7442faa",
   "metadata": {},
   "outputs": [
    {
     "data": {
      "text/html": [
       "<div>\n",
       "<style scoped>\n",
       "    .dataframe tbody tr th:only-of-type {\n",
       "        vertical-align: middle;\n",
       "    }\n",
       "\n",
       "    .dataframe tbody tr th {\n",
       "        vertical-align: top;\n",
       "    }\n",
       "\n",
       "    .dataframe thead th {\n",
       "        text-align: right;\n",
       "    }\n",
       "</style>\n",
       "<table border=\"1\" class=\"dataframe\">\n",
       "  <thead>\n",
       "    <tr style=\"text-align: right;\">\n",
       "      <th></th>\n",
       "      <th>id</th>\n",
       "      <th>listing_url</th>\n",
       "      <th>scrape_id</th>\n",
       "      <th>last_scraped</th>\n",
       "      <th>source</th>\n",
       "      <th>name</th>\n",
       "      <th>description</th>\n",
       "      <th>neighborhood_overview</th>\n",
       "      <th>picture_url</th>\n",
       "      <th>host_id</th>\n",
       "      <th>...</th>\n",
       "      <th>license</th>\n",
       "      <th>instant_bookable</th>\n",
       "      <th>calculated_host_listings_count</th>\n",
       "      <th>calculated_host_listings_count_entire_homes</th>\n",
       "      <th>calculated_host_listings_count_private_rooms</th>\n",
       "      <th>calculated_host_listings_count_shared_rooms</th>\n",
       "      <th>reviews_per_month</th>\n",
       "      <th>state</th>\n",
       "      <th>city</th>\n",
       "      <th>data_date</th>\n",
       "    </tr>\n",
       "  </thead>\n",
       "  <tbody>\n",
       "    <tr>\n",
       "      <th>0</th>\n",
       "      <td>47828453</td>\n",
       "      <td>https://www.airbnb.com/rooms/47828453</td>\n",
       "      <td>20240106043908</td>\n",
       "      <td>2024-01-06</td>\n",
       "      <td>city scrape</td>\n",
       "      <td>Rental unit in Albany · ★4.40 · 2 bedrooms · 3...</td>\n",
       "      <td>NaN</td>\n",
       "      <td>NaN</td>\n",
       "      <td>https://a0.muscache.com/pictures/47b30ae3-42bc...</td>\n",
       "      <td>299638115</td>\n",
       "      <td>...</td>\n",
       "      <td>NaN</td>\n",
       "      <td>f</td>\n",
       "      <td>3</td>\n",
       "      <td>3</td>\n",
       "      <td>0</td>\n",
       "      <td>0</td>\n",
       "      <td>0.42</td>\n",
       "      <td>ny</td>\n",
       "      <td>albany</td>\n",
       "      <td>2024-01-06</td>\n",
       "    </tr>\n",
       "    <tr>\n",
       "      <th>1</th>\n",
       "      <td>13711253</td>\n",
       "      <td>https://www.airbnb.com/rooms/13711253</td>\n",
       "      <td>20240106043908</td>\n",
       "      <td>2024-01-06</td>\n",
       "      <td>city scrape</td>\n",
       "      <td>Home in Albany · ★4.77 · 1 bedroom · 1 bed · 1...</td>\n",
       "      <td>NaN</td>\n",
       "      <td>2 block away from Honest Weight Co Op organic ...</td>\n",
       "      <td>https://a0.muscache.com/pictures/0dfbddb7-b6eb...</td>\n",
       "      <td>61700428</td>\n",
       "      <td>...</td>\n",
       "      <td>NaN</td>\n",
       "      <td>f</td>\n",
       "      <td>3</td>\n",
       "      <td>0</td>\n",
       "      <td>3</td>\n",
       "      <td>0</td>\n",
       "      <td>2.45</td>\n",
       "      <td>ny</td>\n",
       "      <td>albany</td>\n",
       "      <td>2024-01-06</td>\n",
       "    </tr>\n",
       "    <tr>\n",
       "      <th>2</th>\n",
       "      <td>684100173908872919</td>\n",
       "      <td>https://www.airbnb.com/rooms/684100173908872919</td>\n",
       "      <td>20240106043908</td>\n",
       "      <td>2024-01-06</td>\n",
       "      <td>city scrape</td>\n",
       "      <td>Condo in Albany · ★4.40 · 1 bedroom · 2 beds ·...</td>\n",
       "      <td>NaN</td>\n",
       "      <td>NaN</td>\n",
       "      <td>https://a0.muscache.com/pictures/dad915ce-0619...</td>\n",
       "      <td>1176120</td>\n",
       "      <td>...</td>\n",
       "      <td>NaN</td>\n",
       "      <td>f</td>\n",
       "      <td>3</td>\n",
       "      <td>3</td>\n",
       "      <td>0</td>\n",
       "      <td>0</td>\n",
       "      <td>4.20</td>\n",
       "      <td>ny</td>\n",
       "      <td>albany</td>\n",
       "      <td>2024-01-06</td>\n",
       "    </tr>\n",
       "    <tr>\n",
       "      <th>3</th>\n",
       "      <td>48124042</td>\n",
       "      <td>https://www.airbnb.com/rooms/48124042</td>\n",
       "      <td>20240106043908</td>\n",
       "      <td>2024-01-06</td>\n",
       "      <td>city scrape</td>\n",
       "      <td>Rental unit in Albany · ★4.89 · 2 bedrooms · 3...</td>\n",
       "      <td>NaN</td>\n",
       "      <td>Downtown Albany - Corner of North Pearl and Ma...</td>\n",
       "      <td>https://a0.muscache.com/pictures/miso/Hosting-...</td>\n",
       "      <td>385664127</td>\n",
       "      <td>...</td>\n",
       "      <td>NaN</td>\n",
       "      <td>f</td>\n",
       "      <td>2</td>\n",
       "      <td>2</td>\n",
       "      <td>0</td>\n",
       "      <td>0</td>\n",
       "      <td>5.54</td>\n",
       "      <td>ny</td>\n",
       "      <td>albany</td>\n",
       "      <td>2024-01-06</td>\n",
       "    </tr>\n",
       "    <tr>\n",
       "      <th>4</th>\n",
       "      <td>588298411730694861</td>\n",
       "      <td>https://www.airbnb.com/rooms/588298411730694861</td>\n",
       "      <td>20240106043908</td>\n",
       "      <td>2024-01-06</td>\n",
       "      <td>city scrape</td>\n",
       "      <td>Rental unit in Albany · ★5.0 · 1 bedroom · 1 b...</td>\n",
       "      <td>NaN</td>\n",
       "      <td>NaN</td>\n",
       "      <td>https://a0.muscache.com/pictures/b93dc43c-6bd4...</td>\n",
       "      <td>353498132</td>\n",
       "      <td>...</td>\n",
       "      <td>NaN</td>\n",
       "      <td>f</td>\n",
       "      <td>5</td>\n",
       "      <td>5</td>\n",
       "      <td>0</td>\n",
       "      <td>0</td>\n",
       "      <td>0.48</td>\n",
       "      <td>ny</td>\n",
       "      <td>albany</td>\n",
       "      <td>2024-01-06</td>\n",
       "    </tr>\n",
       "  </tbody>\n",
       "</table>\n",
       "<p>5 rows × 78 columns</p>\n",
       "</div>"
      ],
      "text/plain": [
       "                   id                                      listing_url  \\\n",
       "0            47828453            https://www.airbnb.com/rooms/47828453   \n",
       "1            13711253            https://www.airbnb.com/rooms/13711253   \n",
       "2  684100173908872919  https://www.airbnb.com/rooms/684100173908872919   \n",
       "3            48124042            https://www.airbnb.com/rooms/48124042   \n",
       "4  588298411730694861  https://www.airbnb.com/rooms/588298411730694861   \n",
       "\n",
       "        scrape_id last_scraped       source  \\\n",
       "0  20240106043908   2024-01-06  city scrape   \n",
       "1  20240106043908   2024-01-06  city scrape   \n",
       "2  20240106043908   2024-01-06  city scrape   \n",
       "3  20240106043908   2024-01-06  city scrape   \n",
       "4  20240106043908   2024-01-06  city scrape   \n",
       "\n",
       "                                                name  description  \\\n",
       "0  Rental unit in Albany · ★4.40 · 2 bedrooms · 3...          NaN   \n",
       "1  Home in Albany · ★4.77 · 1 bedroom · 1 bed · 1...          NaN   \n",
       "2  Condo in Albany · ★4.40 · 1 bedroom · 2 beds ·...          NaN   \n",
       "3  Rental unit in Albany · ★4.89 · 2 bedrooms · 3...          NaN   \n",
       "4  Rental unit in Albany · ★5.0 · 1 bedroom · 1 b...          NaN   \n",
       "\n",
       "                               neighborhood_overview  \\\n",
       "0                                                NaN   \n",
       "1  2 block away from Honest Weight Co Op organic ...   \n",
       "2                                                NaN   \n",
       "3  Downtown Albany - Corner of North Pearl and Ma...   \n",
       "4                                                NaN   \n",
       "\n",
       "                                         picture_url    host_id  ... license  \\\n",
       "0  https://a0.muscache.com/pictures/47b30ae3-42bc...  299638115  ...     NaN   \n",
       "1  https://a0.muscache.com/pictures/0dfbddb7-b6eb...   61700428  ...     NaN   \n",
       "2  https://a0.muscache.com/pictures/dad915ce-0619...    1176120  ...     NaN   \n",
       "3  https://a0.muscache.com/pictures/miso/Hosting-...  385664127  ...     NaN   \n",
       "4  https://a0.muscache.com/pictures/b93dc43c-6bd4...  353498132  ...     NaN   \n",
       "\n",
       "  instant_bookable calculated_host_listings_count  \\\n",
       "0                f                              3   \n",
       "1                f                              3   \n",
       "2                f                              3   \n",
       "3                f                              2   \n",
       "4                f                              5   \n",
       "\n",
       "  calculated_host_listings_count_entire_homes  \\\n",
       "0                                           3   \n",
       "1                                           0   \n",
       "2                                           3   \n",
       "3                                           2   \n",
       "4                                           5   \n",
       "\n",
       "  calculated_host_listings_count_private_rooms  \\\n",
       "0                                            0   \n",
       "1                                            3   \n",
       "2                                            0   \n",
       "3                                            0   \n",
       "4                                            0   \n",
       "\n",
       "  calculated_host_listings_count_shared_rooms reviews_per_month state    city  \\\n",
       "0                                           0              0.42    ny  albany   \n",
       "1                                           0              2.45    ny  albany   \n",
       "2                                           0              4.20    ny  albany   \n",
       "3                                           0              5.54    ny  albany   \n",
       "4                                           0              0.48    ny  albany   \n",
       "\n",
       "    data_date  \n",
       "0  2024-01-06  \n",
       "1  2024-01-06  \n",
       "2  2024-01-06  \n",
       "3  2024-01-06  \n",
       "4  2024-01-06  \n",
       "\n",
       "[5 rows x 78 columns]"
      ]
     },
     "execution_count": 9,
     "metadata": {},
     "output_type": "execute_result"
    }
   ],
   "source": [
    "test_df1.head(5)"
   ]
  },
  {
   "cell_type": "code",
   "execution_count": 10,
   "id": "7b3fb2b9-6e97-4abd-a0c8-7d9822e36616",
   "metadata": {},
   "outputs": [
    {
     "name": "stderr",
     "output_type": "stream",
     "text": [
      "/var/folders/4m/_hrbkn4n1136mxjddxj_xssr0000gp/T/ipykernel_44135/2688428060.py:1: DtypeWarning: Columns (4) have mixed types. Specify dtype option on import or set low_memory=False.\n",
      "  test_df2 = pd.read_csv('TestData/calendar.csv')\n"
     ]
    },
    {
     "data": {
      "text/plain": [
       "(1364921, 10)"
      ]
     },
     "execution_count": 10,
     "metadata": {},
     "output_type": "execute_result"
    }
   ],
   "source": [
    "test_df2 = pd.read_csv('TestData/calendar.csv')\n",
    "test_df2.shape"
   ]
  },
  {
   "cell_type": "code",
   "execution_count": 11,
   "id": "fba65cff-3ff3-4d08-9ab4-f8250e8e8a85",
   "metadata": {},
   "outputs": [
    {
     "data": {
      "text/html": [
       "<div>\n",
       "<style scoped>\n",
       "    .dataframe tbody tr th:only-of-type {\n",
       "        vertical-align: middle;\n",
       "    }\n",
       "\n",
       "    .dataframe tbody tr th {\n",
       "        vertical-align: top;\n",
       "    }\n",
       "\n",
       "    .dataframe thead th {\n",
       "        text-align: right;\n",
       "    }\n",
       "</style>\n",
       "<table border=\"1\" class=\"dataframe\">\n",
       "  <thead>\n",
       "    <tr style=\"text-align: right;\">\n",
       "      <th></th>\n",
       "      <th>listing_id</th>\n",
       "      <th>date</th>\n",
       "      <th>available</th>\n",
       "      <th>price</th>\n",
       "      <th>adjusted_price</th>\n",
       "      <th>minimum_nights</th>\n",
       "      <th>maximum_nights</th>\n",
       "      <th>state</th>\n",
       "      <th>city</th>\n",
       "      <th>data_date</th>\n",
       "    </tr>\n",
       "  </thead>\n",
       "  <tbody>\n",
       "    <tr>\n",
       "      <th>0</th>\n",
       "      <td>1489424</td>\n",
       "      <td>2024-01-06</td>\n",
       "      <td>f</td>\n",
       "      <td>$50.00</td>\n",
       "      <td>NaN</td>\n",
       "      <td>1</td>\n",
       "      <td>1125</td>\n",
       "      <td>ny</td>\n",
       "      <td>albany</td>\n",
       "      <td>2024-01-06</td>\n",
       "    </tr>\n",
       "    <tr>\n",
       "      <th>1</th>\n",
       "      <td>1489424</td>\n",
       "      <td>2024-01-07</td>\n",
       "      <td>f</td>\n",
       "      <td>$50.00</td>\n",
       "      <td>NaN</td>\n",
       "      <td>1</td>\n",
       "      <td>1125</td>\n",
       "      <td>ny</td>\n",
       "      <td>albany</td>\n",
       "      <td>2024-01-06</td>\n",
       "    </tr>\n",
       "    <tr>\n",
       "      <th>2</th>\n",
       "      <td>1489424</td>\n",
       "      <td>2024-01-08</td>\n",
       "      <td>f</td>\n",
       "      <td>$50.00</td>\n",
       "      <td>NaN</td>\n",
       "      <td>1</td>\n",
       "      <td>1125</td>\n",
       "      <td>ny</td>\n",
       "      <td>albany</td>\n",
       "      <td>2024-01-06</td>\n",
       "    </tr>\n",
       "    <tr>\n",
       "      <th>3</th>\n",
       "      <td>1489424</td>\n",
       "      <td>2024-01-09</td>\n",
       "      <td>f</td>\n",
       "      <td>$50.00</td>\n",
       "      <td>NaN</td>\n",
       "      <td>1</td>\n",
       "      <td>1125</td>\n",
       "      <td>ny</td>\n",
       "      <td>albany</td>\n",
       "      <td>2024-01-06</td>\n",
       "    </tr>\n",
       "    <tr>\n",
       "      <th>4</th>\n",
       "      <td>1489424</td>\n",
       "      <td>2024-01-10</td>\n",
       "      <td>f</td>\n",
       "      <td>$50.00</td>\n",
       "      <td>NaN</td>\n",
       "      <td>1</td>\n",
       "      <td>1125</td>\n",
       "      <td>ny</td>\n",
       "      <td>albany</td>\n",
       "      <td>2024-01-06</td>\n",
       "    </tr>\n",
       "  </tbody>\n",
       "</table>\n",
       "</div>"
      ],
      "text/plain": [
       "   listing_id        date available   price adjusted_price  minimum_nights  \\\n",
       "0     1489424  2024-01-06         f  $50.00            NaN               1   \n",
       "1     1489424  2024-01-07         f  $50.00            NaN               1   \n",
       "2     1489424  2024-01-08         f  $50.00            NaN               1   \n",
       "3     1489424  2024-01-09         f  $50.00            NaN               1   \n",
       "4     1489424  2024-01-10         f  $50.00            NaN               1   \n",
       "\n",
       "   maximum_nights state    city   data_date  \n",
       "0            1125    ny  albany  2024-01-06  \n",
       "1            1125    ny  albany  2024-01-06  \n",
       "2            1125    ny  albany  2024-01-06  \n",
       "3            1125    ny  albany  2024-01-06  \n",
       "4            1125    ny  albany  2024-01-06  "
      ]
     },
     "execution_count": 11,
     "metadata": {},
     "output_type": "execute_result"
    }
   ],
   "source": [
    "test_df2.head(5)"
   ]
  }
 ],
 "metadata": {
  "kernelspec": {
   "display_name": "Python 3 (ipykernel)",
   "language": "python",
   "name": "python3"
  },
  "language_info": {
   "codemirror_mode": {
    "name": "ipython",
    "version": 3
   },
   "file_extension": ".py",
   "mimetype": "text/x-python",
   "name": "python",
   "nbconvert_exporter": "python",
   "pygments_lexer": "ipython3",
   "version": "3.11.6"
  }
 },
 "nbformat": 4,
 "nbformat_minor": 5
}
