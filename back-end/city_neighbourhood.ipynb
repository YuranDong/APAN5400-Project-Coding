{
 "cells": [
  {
   "cell_type": "markdown",
   "metadata": {
    "id": "6thayVZW2Est"
   },
   "source": [
    "# Initiate and configure Spark Session and Context"
   ]
  },
  {
   "cell_type": "code",
   "execution_count": 1,
   "metadata": {
    "colab": {
     "base_uri": "https://localhost:8080/"
    },
    "id": "pRQDwqMf1_6j",
    "outputId": "65109c6d-17bd-400d-ba7f-8b291a32cdc7",
    "ExecuteTime": {
     "end_time": "2024-04-27T18:33:57.004335Z",
     "start_time": "2024-04-27T18:33:54.603465Z"
    }
   },
   "outputs": [
    {
     "name": "stderr",
     "output_type": "stream",
     "text": [
      "24/04/27 14:33:55 WARN Utils: Your hostname, Kun-Mac.local resolves to a loopback address: 127.0.0.1; using 10.206.101.44 instead (on interface en0)\n",
      "24/04/27 14:33:55 WARN Utils: Set SPARK_LOCAL_IP if you need to bind to another address\n",
      "Setting default log level to \"WARN\".\n",
      "To adjust logging level use sc.setLogLevel(newLevel). For SparkR, use setLogLevel(newLevel).\n",
      "24/04/27 14:33:56 WARN NativeCodeLoader: Unable to load native-hadoop library for your platform... using builtin-java classes where applicable\n"
     ]
    },
    {
     "name": "stdout",
     "output_type": "stream",
     "text": [
      "Using Apache Spark Version 3.5.0\n",
      "Spark UI is available at: http://10.206.101.44:4040\n"
     ]
    }
   ],
   "source": [
    "from pyspark.sql import SparkSession\n",
    "\n",
    "spark = SparkSession \\\n",
    "    .builder \\\n",
    "    .master(\"local[*]\") \\\n",
    "    .config(\"spark.driver.memory\", \"12g\")\\\n",
    "    .appName(\"review_city_neighbourhood\") \\\n",
    "    .getOrCreate()\n",
    "\n",
    "sc = spark.sparkContext\n",
    "\n",
    "print(\"Using Apache Spark Version\", spark.version)\n",
    "web_ui_url = sc.uiWebUrl\n",
    "print(f\"Spark UI is available at: {web_ui_url}\")"
   ]
  },
  {
   "cell_type": "markdown",
   "metadata": {
    "id": "E_MmJm892tBK"
   },
   "source": [
    "# Read CSV into Spark Dataframe"
   ]
  },
  {
   "cell_type": "code",
   "execution_count": 2,
   "metadata": {
    "colab": {
     "base_uri": "https://localhost:8080/"
    },
    "id": "iJ6SaI9e2m02",
    "outputId": "b04fb0e1-6fb1-4d2c-83eb-e2b5da3371ce",
    "ExecuteTime": {
     "end_time": "2024-04-27T18:34:01.442464Z",
     "start_time": "2024-04-27T18:33:56.656611Z"
    }
   },
   "outputs": [
    {
     "name": "stderr",
     "output_type": "stream",
     "text": [
      "                                                                                \r"
     ]
    },
    {
     "name": "stdout",
     "output_type": "stream",
     "text": [
      "root\n",
      " |-- id: long (nullable = true)\n",
      " |-- listing_url: string (nullable = true)\n",
      " |-- scrape_id: long (nullable = true)\n",
      " |-- last_scraped: date (nullable = true)\n",
      " |-- source: string (nullable = true)\n",
      " |-- name: string (nullable = true)\n",
      " |-- description: string (nullable = true)\n",
      " |-- neighborhood_overview: string (nullable = true)\n",
      " |-- picture_url: string (nullable = true)\n",
      " |-- host_id: integer (nullable = true)\n",
      " |-- host_url: string (nullable = true)\n",
      " |-- host_name: string (nullable = true)\n",
      " |-- host_since: date (nullable = true)\n",
      " |-- host_location: string (nullable = true)\n",
      " |-- host_about: string (nullable = true)\n",
      " |-- host_response_time: string (nullable = true)\n",
      " |-- host_response_rate: string (nullable = true)\n",
      " |-- host_acceptance_rate: string (nullable = true)\n",
      " |-- host_is_superhost: string (nullable = true)\n",
      " |-- host_thumbnail_url: string (nullable = true)\n",
      " |-- host_picture_url: string (nullable = true)\n",
      " |-- host_neighbourhood: string (nullable = true)\n",
      " |-- host_listings_count: double (nullable = true)\n",
      " |-- host_total_listings_count: double (nullable = true)\n",
      " |-- host_verifications: string (nullable = true)\n",
      " |-- host_has_profile_pic: string (nullable = true)\n",
      " |-- host_identity_verified: string (nullable = true)\n",
      " |-- neighbourhood: string (nullable = true)\n",
      " |-- neighbourhood_cleansed: string (nullable = true)\n",
      " |-- neighbourhood_group_cleansed: string (nullable = true)\n",
      " |-- latitude: double (nullable = true)\n",
      " |-- longitude: double (nullable = true)\n",
      " |-- property_type: string (nullable = true)\n",
      " |-- room_type: string (nullable = true)\n",
      " |-- accommodates: integer (nullable = true)\n",
      " |-- bathrooms: double (nullable = true)\n",
      " |-- bathrooms_text: string (nullable = true)\n",
      " |-- bedrooms: double (nullable = true)\n",
      " |-- beds: double (nullable = true)\n",
      " |-- amenities: string (nullable = true)\n",
      " |-- price: string (nullable = true)\n",
      " |-- minimum_nights: integer (nullable = true)\n",
      " |-- maximum_nights: integer (nullable = true)\n",
      " |-- minimum_minimum_nights: double (nullable = true)\n",
      " |-- maximum_minimum_nights: double (nullable = true)\n",
      " |-- minimum_maximum_nights: double (nullable = true)\n",
      " |-- maximum_maximum_nights: double (nullable = true)\n",
      " |-- minimum_nights_avg_ntm: double (nullable = true)\n",
      " |-- maximum_nights_avg_ntm: double (nullable = true)\n",
      " |-- calendar_updated: string (nullable = true)\n",
      " |-- has_availability: string (nullable = true)\n",
      " |-- availability_30: integer (nullable = true)\n",
      " |-- availability_60: integer (nullable = true)\n",
      " |-- availability_90: integer (nullable = true)\n",
      " |-- availability_365: integer (nullable = true)\n",
      " |-- calendar_last_scraped: date (nullable = true)\n",
      " |-- number_of_reviews: integer (nullable = true)\n",
      " |-- number_of_reviews_ltm: integer (nullable = true)\n",
      " |-- number_of_reviews_l30d: integer (nullable = true)\n",
      " |-- first_review: date (nullable = true)\n",
      " |-- last_review: date (nullable = true)\n",
      " |-- review_scores_rating: double (nullable = true)\n",
      " |-- review_scores_accuracy: double (nullable = true)\n",
      " |-- review_scores_cleanliness: double (nullable = true)\n",
      " |-- review_scores_checkin: double (nullable = true)\n",
      " |-- review_scores_communication: double (nullable = true)\n",
      " |-- review_scores_location: double (nullable = true)\n",
      " |-- review_scores_value: double (nullable = true)\n",
      " |-- license: string (nullable = true)\n",
      " |-- instant_bookable: string (nullable = true)\n",
      " |-- calculated_host_listings_count: integer (nullable = true)\n",
      " |-- calculated_host_listings_count_entire_homes: integer (nullable = true)\n",
      " |-- calculated_host_listings_count_private_rooms: integer (nullable = true)\n",
      " |-- calculated_host_listings_count_shared_rooms: integer (nullable = true)\n",
      " |-- reviews_per_month: double (nullable = true)\n",
      " |-- state: string (nullable = true)\n",
      " |-- city: string (nullable = true)\n",
      " |-- data_date: date (nullable = true)\n"
     ]
    }
   ],
   "source": [
    "listings = spark.read.option(\"header\", \"true\") \\\n",
    "                   .option(\"delimiter\", \",\") \\\n",
    "                   .option(\"inferSchema\", \"true\") \\\n",
    "                   .option(\"multiLine\", \"true\")\\\n",
    "                   .option(\"escape\", \"\\\"\")\\\n",
    "                   .csv(\"../Data/listings.csv\")\n",
    "listings.printSchema()"
   ]
  },
  {
   "cell_type": "code",
   "execution_count": 3,
   "metadata": {
    "colab": {
     "base_uri": "https://localhost:8080/"
    },
    "id": "rIr8eIRf6Yn0",
    "outputId": "5e5b58c4-a927-498f-d716-54e2fa210d9e",
    "ExecuteTime": {
     "end_time": "2024-04-27T18:34:01.444860Z",
     "start_time": "2024-04-27T18:34:01.441688Z"
    }
   },
   "outputs": [],
   "source": [
    "# calendar = spark.read.option(\"header\", \"true\") \\\n",
    "#                    .option(\"delimiter\", \",\") \\\n",
    "#                    .option(\"inferSchema\", \"true\") \\\n",
    "#                    .option(\"multiLine\", \"true\")\\\n",
    "#                    .option(\"escape\", \"\\\"\")\\\n",
    "#                    .csv(\"../Data/calendar.csv\")\n",
    "# calendar = calendar.drop(*['minimum_nights','maximum_nights'])\n",
    "# #calendar.show()\n",
    "# calendar.printSchema()"
   ]
  },
  {
   "cell_type": "markdown",
   "metadata": {
    "id": "QHmBrhIWEVoY"
   },
   "source": [
    "**city**"
   ]
  },
  {
   "cell_type": "code",
   "execution_count": 4,
   "metadata": {
    "id": "MVD7TrOcC_l2",
    "ExecuteTime": {
     "end_time": "2024-04-27T18:34:01.660353Z",
     "start_time": "2024-04-27T18:34:01.444861Z"
    }
   },
   "outputs": [
    {
     "name": "stderr",
     "output_type": "stream",
     "text": [
      "24/04/27 14:34:01 WARN SparkStringUtils: Truncated the string representation of a plan since it was too large. This behavior can be adjusted by setting 'spark.sql.debug.maxToStringFields'.\n"
     ]
    }
   ],
   "source": [
    "listings.createOrReplaceTempView('listings')\n",
    "# calendar.createOrReplaceTempView('calendar')\n",
    "city_query = '''\n",
    "SELECT\n",
    "    l.city,\n",
    "    l.state,\n",
    "    COUNT(DISTINCT l.id) AS total_listings\n",
    "FROM listings l\n",
    "GROUP BY \n",
    "    l.city\n",
    "    ,l.state\n",
    "-- ORDER BY l.city\n",
    "'''\n",
    "\n",
    "result_city = spark.sql(city_query)"
   ]
  },
  {
   "cell_type": "code",
   "execution_count": 5,
   "metadata": {
    "colab": {
     "base_uri": "https://localhost:8080/",
     "height": 206
    },
    "id": "PDUKBXKNPmhD",
    "outputId": "54da4ae5-a18c-4894-ac28-7d3ab63a2df7",
    "ExecuteTime": {
     "end_time": "2024-04-27T18:34:05.892254Z",
     "start_time": "2024-04-27T18:34:01.659152Z"
    }
   },
   "outputs": [
    {
     "name": "stderr",
     "output_type": "stream",
     "text": [
      "                                                                                \r"
     ]
    },
    {
     "data": {
      "text/plain": "             city state  total_listings\n0       nashville    tn            8850\n1  broward-county    fl           18230\n2   new-york-city    ny           39202\n3          boston    ma            4204\n4          austin    tx           15419",
      "text/html": "<div>\n<style scoped>\n    .dataframe tbody tr th:only-of-type {\n        vertical-align: middle;\n    }\n\n    .dataframe tbody tr th {\n        vertical-align: top;\n    }\n\n    .dataframe thead th {\n        text-align: right;\n    }\n</style>\n<table border=\"1\" class=\"dataframe\">\n  <thead>\n    <tr style=\"text-align: right;\">\n      <th></th>\n      <th>city</th>\n      <th>state</th>\n      <th>total_listings</th>\n    </tr>\n  </thead>\n  <tbody>\n    <tr>\n      <th>0</th>\n      <td>nashville</td>\n      <td>tn</td>\n      <td>8850</td>\n    </tr>\n    <tr>\n      <th>1</th>\n      <td>broward-county</td>\n      <td>fl</td>\n      <td>18230</td>\n    </tr>\n    <tr>\n      <th>2</th>\n      <td>new-york-city</td>\n      <td>ny</td>\n      <td>39202</td>\n    </tr>\n    <tr>\n      <th>3</th>\n      <td>boston</td>\n      <td>ma</td>\n      <td>4204</td>\n    </tr>\n    <tr>\n      <th>4</th>\n      <td>austin</td>\n      <td>tx</td>\n      <td>15419</td>\n    </tr>\n  </tbody>\n</table>\n</div>"
     },
     "execution_count": 5,
     "metadata": {},
     "output_type": "execute_result"
    }
   ],
   "source": [
    "import pandas\n",
    "result_city.limit(5).toPandas()"
   ]
  },
  {
   "cell_type": "markdown",
   "metadata": {
    "id": "bHgXgNObVgi2"
   },
   "source": [
    "**neighborhood**"
   ]
  },
  {
   "cell_type": "code",
   "execution_count": 6,
   "metadata": {
    "id": "ed0Jbl8HVTIN",
    "ExecuteTime": {
     "end_time": "2024-04-27T18:34:05.903936Z",
     "start_time": "2024-04-27T18:34:05.890430Z"
    }
   },
   "outputs": [],
   "source": [
    "# listings.createOrReplaceTempView('listings')\n",
    "# calendar.createOrReplaceTempView('calendar')\n",
    "\n",
    "neighbourhood_query = '''\n",
    "SELECT\n",
    "    l.neighbourhood_cleansed,\n",
    "    l.city,\n",
    "    l.state,\n",
    "    COUNT(DISTINCT l.id) AS total_listings\n",
    "FROM listings l\n",
    "GROUP BY\n",
    "    l.neighbourhood_cleansed,\n",
    "    l.city,\n",
    "    l.state\n",
    "'''\n",
    "\n",
    "result_neighbourhood = spark.sql(neighbourhood_query)"
   ]
  },
  {
   "cell_type": "code",
   "execution_count": 7,
   "metadata": {
    "colab": {
     "base_uri": "https://localhost:8080/",
     "height": 206
    },
    "id": "DJdWzqNJXvyW",
    "outputId": "b77873e3-79cd-4300-ac2e-6dd6f1be2b6f",
    "ExecuteTime": {
     "end_time": "2024-04-27T18:34:09.119048Z",
     "start_time": "2024-04-27T18:34:05.904818Z"
    }
   },
   "outputs": [
    {
     "name": "stderr",
     "output_type": "stream",
     "text": [
      "24/04/27 14:34:07 WARN GarbageCollectionMetrics: To enable non-built-in garbage collector(s) List(G1 Concurrent GC), users should configure it(them) to spark.eventLog.gcMetrics.youngGenerationGarbageCollectors or spark.eventLog.gcMetrics.oldGenerationGarbageCollectors\n",
      "                                                                                \r"
     ]
    },
    {
     "data": {
      "text/plain": "  neighbourhood_cleansed           city state  total_listings\n0         Woodland Hills    los-angeles    ca             525\n1               Kips Bay  new-york-city    ny             417\n2           Upper Laurel        oakland    ca              28\n3               Overlook       portland    or             122\n4       Lake Los Angeles    los-angeles    ca              10",
      "text/html": "<div>\n<style scoped>\n    .dataframe tbody tr th:only-of-type {\n        vertical-align: middle;\n    }\n\n    .dataframe tbody tr th {\n        vertical-align: top;\n    }\n\n    .dataframe thead th {\n        text-align: right;\n    }\n</style>\n<table border=\"1\" class=\"dataframe\">\n  <thead>\n    <tr style=\"text-align: right;\">\n      <th></th>\n      <th>neighbourhood_cleansed</th>\n      <th>city</th>\n      <th>state</th>\n      <th>total_listings</th>\n    </tr>\n  </thead>\n  <tbody>\n    <tr>\n      <th>0</th>\n      <td>Woodland Hills</td>\n      <td>los-angeles</td>\n      <td>ca</td>\n      <td>525</td>\n    </tr>\n    <tr>\n      <th>1</th>\n      <td>Kips Bay</td>\n      <td>new-york-city</td>\n      <td>ny</td>\n      <td>417</td>\n    </tr>\n    <tr>\n      <th>2</th>\n      <td>Upper Laurel</td>\n      <td>oakland</td>\n      <td>ca</td>\n      <td>28</td>\n    </tr>\n    <tr>\n      <th>3</th>\n      <td>Overlook</td>\n      <td>portland</td>\n      <td>or</td>\n      <td>122</td>\n    </tr>\n    <tr>\n      <th>4</th>\n      <td>Lake Los Angeles</td>\n      <td>los-angeles</td>\n      <td>ca</td>\n      <td>10</td>\n    </tr>\n  </tbody>\n</table>\n</div>"
     },
     "execution_count": 7,
     "metadata": {},
     "output_type": "execute_result"
    }
   ],
   "source": [
    "result_neighbourhood.limit(5).toPandas()"
   ]
  },
  {
   "cell_type": "code",
   "outputs": [],
   "source": [],
   "metadata": {
    "collapsed": false,
    "ExecuteTime": {
     "end_time": "2024-04-27T18:34:09.119486Z",
     "start_time": "2024-04-27T18:34:09.116056Z"
    }
   },
   "execution_count": 7
  }
 ],
 "metadata": {
  "colab": {
   "provenance": []
  },
  "kernelspec": {
   "display_name": "Python 3 (ipykernel)",
   "language": "python",
   "name": "python3"
  },
  "language_info": {
   "codemirror_mode": {
    "name": "ipython",
    "version": 3
   },
   "file_extension": ".py",
   "mimetype": "text/x-python",
   "name": "python",
   "nbconvert_exporter": "python",
   "pygments_lexer": "ipython3",
   "version": "3.11.4"
  }
 },
 "nbformat": 4,
 "nbformat_minor": 4
}
