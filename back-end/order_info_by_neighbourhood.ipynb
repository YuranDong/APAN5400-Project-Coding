{
 "cells": [
  {
   "cell_type": "code",
   "execution_count": 1,
   "id": "initial_id",
   "metadata": {
    "collapsed": true,
    "ExecuteTime": {
     "end_time": "2024-04-22T00:12:22.463829Z",
     "start_time": "2024-04-22T00:12:22.023459Z"
    }
   },
   "outputs": [],
   "source": [
    "import pandas as pd\n",
    "from pyspark.sql import SparkSession\n",
    "from pyspark.sql.functions import *\n",
    "from pyspark.sql.types import FloatType"
   ]
  },
  {
   "cell_type": "code",
   "outputs": [
    {
     "name": "stderr",
     "output_type": "stream",
     "text": [
      "24/04/21 20:12:23 WARN Utils: Your hostname, Kun-Mac.local resolves to a loopback address: 127.0.0.1; using 172.20.23.178 instead (on interface en0)\n",
      "24/04/21 20:12:23 WARN Utils: Set SPARK_LOCAL_IP if you need to bind to another address\n",
      "Setting default log level to \"WARN\".\n",
      "To adjust logging level use sc.setLogLevel(newLevel). For SparkR, use setLogLevel(newLevel).\n",
      "24/04/21 20:12:23 WARN NativeCodeLoader: Unable to load native-hadoop library for your platform... using builtin-java classes where applicable\n"
     ]
    }
   ],
   "source": [
    "# running local spark\n",
    "spark = SparkSession \\\n",
    "    .builder \\\n",
    "    .master(\"local[*]\") \\\n",
    "    .config(\"spark.driver.memory\", \"12g\")\\\n",
    "    .appName(\"neighborhoods_and_city\") \\\n",
    "    .getOrCreate()\n",
    "\n",
    "sc = spark.sparkContext"
   ],
   "metadata": {
    "collapsed": false,
    "ExecuteTime": {
     "end_time": "2024-04-22T00:12:24.375360Z",
     "start_time": "2024-04-22T00:12:22.461420Z"
    }
   },
   "id": "49c434ade904cfae",
   "execution_count": 2
  },
  {
   "cell_type": "code",
   "outputs": [
    {
     "name": "stdout",
     "output_type": "stream",
     "text": [
      "Using Apache Spark Version 3.5.0\n",
      "Spark UI is available at: http://172.20.23.178:4040\n"
     ]
    }
   ],
   "source": [
    "print(\"Using Apache Spark Version\", spark.version)\n",
    "web_ui_url = sc.uiWebUrl\n",
    "print(f\"Spark UI is available at: {web_ui_url}\")"
   ],
   "metadata": {
    "collapsed": false,
    "ExecuteTime": {
     "end_time": "2024-04-22T00:12:24.379875Z",
     "start_time": "2024-04-22T00:12:24.376180Z"
    }
   },
   "id": "768927c96924b764",
   "execution_count": 3
  },
  {
   "cell_type": "code",
   "outputs": [
    {
     "name": "stderr",
     "output_type": "stream",
     "text": [
      "                                                                                \r"
     ]
    }
   ],
   "source": [
    "listings = spark.read.option(\"header\", \"true\") \\\n",
    "                    .option(\"delimiter\", \",\") \\\n",
    "                    .option(\"inferSchema\", \"true\") \\\n",
    "                    .option(\"multiLine\", \"true\")\\\n",
    "                    .option(\"escape\", \"\\\"\")\\\n",
    "                    .csv(\"../Data/listings.csv\")\n",
    "listings = listings.select(col('id'),col('neighbourhood_cleansed'))"
   ],
   "metadata": {
    "collapsed": false,
    "ExecuteTime": {
     "end_time": "2024-04-22T00:12:28.541714Z",
     "start_time": "2024-04-22T00:12:24.379785Z"
    }
   },
   "id": "748f96ad2304bf6b",
   "execution_count": 4
  },
  {
   "cell_type": "code",
   "outputs": [
    {
     "name": "stderr",
     "output_type": "stream",
     "text": [
      "24/04/21 20:12:40 WARN GarbageCollectionMetrics: To enable non-built-in garbage collector(s) List(G1 Concurrent GC), users should configure it(them) to spark.eventLog.gcMetrics.youngGenerationGarbageCollectors or spark.eventLog.gcMetrics.oldGenerationGarbageCollectors\n",
      "                                                                                \r"
     ]
    }
   ],
   "source": [
    "calendar = spark.read.option(\"header\", \"true\") \\\n",
    "                    .option(\"delimiter\", \",\") \\\n",
    "                    .option(\"inferSchema\", \"true\") \\\n",
    "                    .option(\"multiLine\", \"true\")\\\n",
    "                    .option(\"escape\", \"\\\"\")\\\n",
    "                    .csv(\"../Data/calendar.csv\")\n",
    "calendar = calendar.drop(*['minimum_nights','maximum_nights'])"
   ],
   "metadata": {
    "collapsed": false,
    "ExecuteTime": {
     "end_time": "2024-04-22T00:13:49.693118Z",
     "start_time": "2024-04-22T00:12:28.542800Z"
    }
   },
   "id": "50fd7aec8e1b1fcb",
   "execution_count": 5
  },
  {
   "cell_type": "code",
   "outputs": [
    {
     "data": {
      "text/plain": "<function __main__.money_to_float(money_str)>"
     },
     "execution_count": 6,
     "metadata": {},
     "output_type": "execute_result"
    }
   ],
   "source": [
    "def money_to_float(money_str):\n",
    "    if money_str is None:\n",
    "        return None\n",
    "    else:\n",
    "        cleaned_str = money_str[1:].replace(',', '')\n",
    "        return float(cleaned_str)\n",
    "spark.udf.register(\"money_to_float_udf\", money_to_float, FloatType())"
   ],
   "metadata": {
    "collapsed": false,
    "ExecuteTime": {
     "end_time": "2024-04-22T00:13:49.733759Z",
     "start_time": "2024-04-22T00:13:49.693133Z"
    }
   },
   "id": "b6dee41ed38da655",
   "execution_count": 6
  },
  {
   "cell_type": "code",
   "outputs": [
    {
     "name": "stderr",
     "output_type": "stream",
     "text": [
      "24/04/21 20:14:02 WARN SparkStringUtils: Truncated the string representation of a plan since it was too large. This behavior can be adjusted by setting 'spark.sql.debug.maxToStringFields'.\n"
     ]
    }
   ],
   "source": [
    "listings.createOrReplaceTempView('listings')\n",
    "calendar.createOrReplaceTempView('calendar')\n",
    "sql = '''\n",
    "with neighbourhood as ( \n",
    "select\n",
    "    id\n",
    "    ,neighbourhood_cleansed\n",
    "from listings\n",
    "),\n",
    "calendar_cleaned as ( \n",
    "select\n",
    "    listing_id\n",
    "    ,date\n",
    "    ,if(available='t',1,0) as is_available\n",
    "    ,coalesce(money_to_float_udf(adjusted_price),money_to_float_udf(price)) as price\n",
    "    -- ,CAST(regexp_replace(price, '[^0-9\\.]', '') AS FLOAT) AS price\n",
    "    ,state\n",
    "    ,city\n",
    "    ,data_date as data_download_date\n",
    "from calendar\n",
    ")\n",
    "\n",
    "select\n",
    "    state\n",
    "    ,city\n",
    "    ,neighbourhood_cleansed\n",
    "    ,date\n",
    "    ,sum(is_available)/count(is_available) as occupancy_rate\n",
    "    ,avg(price) as avg_price\n",
    "from calendar_cleaned t1\n",
    "left join neighbourhood t2\n",
    "    on t1.listing_id = t2.id\n",
    "group by \n",
    "    state\n",
    "    ,city\n",
    "    ,neighbourhood_cleansed\n",
    "    ,date\n",
    "'''\n",
    "result_neighbourhood = spark.sql(sql)"
   ],
   "metadata": {
    "collapsed": false,
    "ExecuteTime": {
     "end_time": "2024-04-22T00:14:02.801871Z",
     "start_time": "2024-04-22T00:14:02.511514Z"
    }
   },
   "id": "918f1e1280e44e5d",
   "execution_count": 7
  },
  {
   "cell_type": "code",
   "outputs": [
    {
     "name": "stderr",
     "output_type": "stream",
     "text": [
      "24/04/21 20:15:19 WARN RowBasedKeyValueBatch: Calling spill() on RowBasedKeyValueBatch. Will not spill but return 0.\n",
      "24/04/21 20:15:19 WARN RowBasedKeyValueBatch: Calling spill() on RowBasedKeyValueBatch. Will not spill but return 0.\n",
      "24/04/21 20:15:19 WARN RowBasedKeyValueBatch: Calling spill() on RowBasedKeyValueBatch. Will not spill but return 0.\n",
      "24/04/21 20:15:19 WARN RowBasedKeyValueBatch: Calling spill() on RowBasedKeyValueBatch. Will not spill but return 0.\n",
      "24/04/21 20:15:19 WARN RowBasedKeyValueBatch: Calling spill() on RowBasedKeyValueBatch. Will not spill but return 0.\n",
      "24/04/21 20:15:19 WARN RowBasedKeyValueBatch: Calling spill() on RowBasedKeyValueBatch. Will not spill but return 0.\n",
      "24/04/21 20:15:19 WARN RowBasedKeyValueBatch: Calling spill() on RowBasedKeyValueBatch. Will not spill but return 0.\n",
      "24/04/21 20:15:19 WARN RowBasedKeyValueBatch: Calling spill() on RowBasedKeyValueBatch. Will not spill but return 0.\n",
      "24/04/21 20:15:19 WARN RowBasedKeyValueBatch: Calling spill() on RowBasedKeyValueBatch. Will not spill but return 0.\n",
      "24/04/21 20:15:20 WARN RowBasedKeyValueBatch: Calling spill() on RowBasedKeyValueBatch. Will not spill but return 0.\n",
      "24/04/21 20:15:20 WARN RowBasedKeyValueBatch: Calling spill() on RowBasedKeyValueBatch. Will not spill but return 0.\n",
      "24/04/21 20:15:20 WARN RowBasedKeyValueBatch: Calling spill() on RowBasedKeyValueBatch. Will not spill but return 0.\n",
      "24/04/21 20:15:21 WARN RowBasedKeyValueBatch: Calling spill() on RowBasedKeyValueBatch. Will not spill but return 0.\n",
      "24/04/21 20:15:22 WARN RowBasedKeyValueBatch: Calling spill() on RowBasedKeyValueBatch. Will not spill but return 0.\n",
      "24/04/21 20:15:22 WARN RowBasedKeyValueBatch: Calling spill() on RowBasedKeyValueBatch. Will not spill but return 0.\n",
      "24/04/21 20:15:22 WARN RowBasedKeyValueBatch: Calling spill() on RowBasedKeyValueBatch. Will not spill but return 0.\n",
      "24/04/21 20:15:22 WARN RowBasedKeyValueBatch: Calling spill() on RowBasedKeyValueBatch. Will not spill but return 0.\n",
      "24/04/21 20:15:22 WARN RowBasedKeyValueBatch: Calling spill() on RowBasedKeyValueBatch. Will not spill but return 0.\n",
      "24/04/21 20:15:22 WARN RowBasedKeyValueBatch: Calling spill() on RowBasedKeyValueBatch. Will not spill but return 0.\n",
      "24/04/21 20:15:22 WARN RowBasedKeyValueBatch: Calling spill() on RowBasedKeyValueBatch. Will not spill but return 0.\n",
      "24/04/21 20:15:22 WARN RowBasedKeyValueBatch: Calling spill() on RowBasedKeyValueBatch. Will not spill but return 0.\n",
      "24/04/21 20:15:23 WARN RowBasedKeyValueBatch: Calling spill() on RowBasedKeyValueBatch. Will not spill but return 0.\n",
      "24/04/21 20:15:31 WARN RowBasedKeyValueBatch: Calling spill() on RowBasedKeyValueBatch. Will not spill but return 0.\n",
      "                                                                                \r"
     ]
    },
    {
     "name": "stdout",
     "output_type": "stream",
     "text": [
      "577080\n"
     ]
    },
    {
     "name": "stderr",
     "output_type": "stream",
     "text": [
      "24/04/21 20:18:37 WARN RowBasedKeyValueBatch: Calling spill() on RowBasedKeyValueBatch. Will not spill but return 0.\n",
      "24/04/21 20:18:37 WARN RowBasedKeyValueBatch: Calling spill() on RowBasedKeyValueBatch. Will not spill but return 0.\n",
      "24/04/21 20:18:37 WARN RowBasedKeyValueBatch: Calling spill() on RowBasedKeyValueBatch. Will not spill but return 0.\n",
      "24/04/21 20:18:37 WARN RowBasedKeyValueBatch: Calling spill() on RowBasedKeyValueBatch. Will not spill but return 0.\n",
      "24/04/21 20:18:37 WARN RowBasedKeyValueBatch: Calling spill() on RowBasedKeyValueBatch. Will not spill but return 0.\n",
      "24/04/21 20:18:38 WARN RowBasedKeyValueBatch: Calling spill() on RowBasedKeyValueBatch. Will not spill but return 0.\n",
      "24/04/21 20:18:38 WARN RowBasedKeyValueBatch: Calling spill() on RowBasedKeyValueBatch. Will not spill but return 0.\n",
      "24/04/21 20:18:38 WARN RowBasedKeyValueBatch: Calling spill() on RowBasedKeyValueBatch. Will not spill but return 0.\n",
      "24/04/21 20:18:38 WARN RowBasedKeyValueBatch: Calling spill() on RowBasedKeyValueBatch. Will not spill but return 0.\n",
      "24/04/21 20:18:38 WARN RowBasedKeyValueBatch: Calling spill() on RowBasedKeyValueBatch. Will not spill but return 0.\n",
      "24/04/21 20:18:38 WARN RowBasedKeyValueBatch: Calling spill() on RowBasedKeyValueBatch. Will not spill but return 0.\n",
      "24/04/21 20:18:38 WARN RowBasedKeyValueBatch: Calling spill() on RowBasedKeyValueBatch. Will not spill but return 0.\n",
      "24/04/21 20:18:40 WARN RowBasedKeyValueBatch: Calling spill() on RowBasedKeyValueBatch. Will not spill but return 0.\n",
      "24/04/21 20:18:40 WARN RowBasedKeyValueBatch: Calling spill() on RowBasedKeyValueBatch. Will not spill but return 0.\n",
      "24/04/21 20:18:41 WARN RowBasedKeyValueBatch: Calling spill() on RowBasedKeyValueBatch. Will not spill but return 0.\n",
      "24/04/21 20:18:41 WARN RowBasedKeyValueBatch: Calling spill() on RowBasedKeyValueBatch. Will not spill but return 0.\n",
      "24/04/21 20:18:41 WARN RowBasedKeyValueBatch: Calling spill() on RowBasedKeyValueBatch. Will not spill but return 0.\n",
      "24/04/21 20:18:41 WARN RowBasedKeyValueBatch: Calling spill() on RowBasedKeyValueBatch. Will not spill but return 0.\n",
      "24/04/21 20:18:41 WARN RowBasedKeyValueBatch: Calling spill() on RowBasedKeyValueBatch. Will not spill but return 0.\n",
      "24/04/21 20:18:41 WARN RowBasedKeyValueBatch: Calling spill() on RowBasedKeyValueBatch. Will not spill but return 0.\n",
      "24/04/21 20:18:41 WARN RowBasedKeyValueBatch: Calling spill() on RowBasedKeyValueBatch. Will not spill but return 0.\n",
      "24/04/21 20:18:41 WARN RowBasedKeyValueBatch: Calling spill() on RowBasedKeyValueBatch. Will not spill but return 0.\n",
      "24/04/21 20:18:43 WARN RowBasedKeyValueBatch: Calling spill() on RowBasedKeyValueBatch. Will not spill but return 0.\n",
      "24/04/21 20:18:43 WARN RowBasedKeyValueBatch: Calling spill() on RowBasedKeyValueBatch. Will not spill but return 0.\n",
      "24/04/21 20:18:50 WARN RowBasedKeyValueBatch: Calling spill() on RowBasedKeyValueBatch. Will not spill but return 0.\n",
      "                                                                                \r"
     ]
    },
    {
     "data": {
      "text/plain": "  state           city neighbourhood_cleansed        date  occupancy_rate  \\\n0    ny  new-york-city               Flatbush  2024-03-16        0.442913   \n1    ny  new-york-city               Flatbush  2024-09-15        0.427165   \n2    ny  new-york-city               Flatbush  2024-11-23        0.336614   \n3    ny  new-york-city           East Village  2024-02-17        0.234043   \n4    ny  new-york-city           East Village  2024-04-23        0.307123   \n\n    avg_price  \n0  125.580709  \n1  125.580709  \n2  125.580709  \n3  241.274746  \n4  241.274746  ",
      "text/html": "<div>\n<style scoped>\n    .dataframe tbody tr th:only-of-type {\n        vertical-align: middle;\n    }\n\n    .dataframe tbody tr th {\n        vertical-align: top;\n    }\n\n    .dataframe thead th {\n        text-align: right;\n    }\n</style>\n<table border=\"1\" class=\"dataframe\">\n  <thead>\n    <tr style=\"text-align: right;\">\n      <th></th>\n      <th>state</th>\n      <th>city</th>\n      <th>neighbourhood_cleansed</th>\n      <th>date</th>\n      <th>occupancy_rate</th>\n      <th>avg_price</th>\n    </tr>\n  </thead>\n  <tbody>\n    <tr>\n      <th>0</th>\n      <td>ny</td>\n      <td>new-york-city</td>\n      <td>Flatbush</td>\n      <td>2024-03-16</td>\n      <td>0.442913</td>\n      <td>125.580709</td>\n    </tr>\n    <tr>\n      <th>1</th>\n      <td>ny</td>\n      <td>new-york-city</td>\n      <td>Flatbush</td>\n      <td>2024-09-15</td>\n      <td>0.427165</td>\n      <td>125.580709</td>\n    </tr>\n    <tr>\n      <th>2</th>\n      <td>ny</td>\n      <td>new-york-city</td>\n      <td>Flatbush</td>\n      <td>2024-11-23</td>\n      <td>0.336614</td>\n      <td>125.580709</td>\n    </tr>\n    <tr>\n      <th>3</th>\n      <td>ny</td>\n      <td>new-york-city</td>\n      <td>East Village</td>\n      <td>2024-02-17</td>\n      <td>0.234043</td>\n      <td>241.274746</td>\n    </tr>\n    <tr>\n      <th>4</th>\n      <td>ny</td>\n      <td>new-york-city</td>\n      <td>East Village</td>\n      <td>2024-04-23</td>\n      <td>0.307123</td>\n      <td>241.274746</td>\n    </tr>\n  </tbody>\n</table>\n</div>"
     },
     "execution_count": 8,
     "metadata": {},
     "output_type": "execute_result"
    }
   ],
   "source": [
    "print(result_neighbourhood.count())\n",
    "result_neighbourhood.limit(5).toPandas()"
   ],
   "metadata": {
    "collapsed": false,
    "ExecuteTime": {
     "end_time": "2024-04-22T00:18:53.801763Z",
     "start_time": "2024-04-22T00:14:10.642481Z"
    }
   },
   "id": "3942be803292ac96",
   "execution_count": 8
  },
  {
   "cell_type": "markdown",
   "source": [
    "# insert into Database (WIP)"
   ],
   "metadata": {
    "collapsed": false
   },
   "id": "67d595dcbfe00ec2"
  },
  {
   "cell_type": "code",
   "outputs": [],
   "source": [],
   "metadata": {
    "collapsed": false,
    "ExecuteTime": {
     "start_time": "2024-04-21T22:27:17.920606Z"
    }
   },
   "id": "5e607f1ff70df573",
   "execution_count": null
  },
  {
   "cell_type": "code",
   "outputs": [],
   "source": [],
   "metadata": {
    "collapsed": false,
    "ExecuteTime": {
     "start_time": "2024-04-21T22:27:17.921158Z"
    }
   },
   "id": "4698c04f0056df27"
  }
 ],
 "metadata": {
  "kernelspec": {
   "display_name": "Python 3",
   "language": "python",
   "name": "python3"
  },
  "language_info": {
   "codemirror_mode": {
    "name": "ipython",
    "version": 2
   },
   "file_extension": ".py",
   "mimetype": "text/x-python",
   "name": "python",
   "nbconvert_exporter": "python",
   "pygments_lexer": "ipython2",
   "version": "2.7.6"
  }
 },
 "nbformat": 4,
 "nbformat_minor": 5
}
