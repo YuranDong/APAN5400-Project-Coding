{
 "cells": [
  {
   "cell_type": "markdown",
   "id": "6fbc1051",
   "metadata": {},
   "source": [
    "# ETL Process for Reviews"
   ]
  },
  {
   "cell_type": "code",
   "execution_count": 1,
   "id": "2fba8f4dfb1d71b",
   "metadata": {
    "scrolled": false,
    "ExecuteTime": {
     "end_time": "2024-04-28T22:43:53.107616Z",
     "start_time": "2024-04-28T22:43:09.554938Z"
    }
   },
   "outputs": [
    {
     "name": "stderr",
     "output_type": "stream",
     "text": [
      "/var/folders/4m/_hrbkn4n1136mxjddxj_xssr0000gp/T/ipykernel_95805/1972203836.py:5: DtypeWarning: Columns (0,1,3) have mixed types. Specify dtype option on import or set low_memory=False.\n",
      "  reviews = pd.read_csv(\"../Data/reviews.csv\")\n"
     ]
    }
   ],
   "source": [
    "# extract data\n",
    "import pandas as pd\n",
    "\n",
    "# Load data into a DataFrame\n",
    "reviews = pd.read_csv(\"../Data/reviews.csv\")"
   ]
  },
  {
   "cell_type": "code",
   "execution_count": 2,
   "id": "02ef5353",
   "metadata": {
    "scrolled": false,
    "ExecuteTime": {
     "end_time": "2024-04-28T22:43:53.250754Z",
     "start_time": "2024-04-28T22:43:53.107074Z"
    }
   },
   "outputs": [],
   "source": [
    "# connect to mongodb\n",
    "from pymongo import MongoClient\n",
    "\n",
    "# Setup MongoDB connection\n",
    "client = MongoClient('localhost',27017)\n",
    "db = client[\"airbnb\"] \n",
    "collection = db[\"reviews\"]  "
   ]
  },
  {
   "cell_type": "code",
   "outputs": [],
   "source": [
    "# drop existing collection\n",
    "# collection.drop()"
   ],
   "metadata": {
    "collapsed": false,
    "ExecuteTime": {
     "end_time": "2024-04-28T22:43:53.292153Z",
     "start_time": "2024-04-28T22:43:53.251720Z"
    }
   },
   "id": "d97a8f95155294b3",
   "execution_count": 3
  },
  {
   "cell_type": "code",
   "execution_count": 4,
   "id": "abd4e706",
   "metadata": {
    "ExecuteTime": {
     "end_time": "2024-04-28T22:48:36.721814Z",
     "start_time": "2024-04-28T22:43:53.294151Z"
    }
   },
   "outputs": [],
   "source": [
    "# load data\n",
    "\n",
    "# Convert DataFrame to dictionary\n",
    "reviews_dict = reviews.to_dict(\"records\")\n",
    "\n",
    "# Insert data into MongoDB\n",
    "result = collection.insert_many(reviews_dict)"
   ]
  },
  {
   "cell_type": "code",
   "outputs": [
    {
     "data": {
      "text/plain": "11944893"
     },
     "execution_count": 5,
     "metadata": {},
     "output_type": "execute_result"
    }
   ],
   "source": [
    "len(result.inserted_ids)"
   ],
   "metadata": {
    "collapsed": false,
    "ExecuteTime": {
     "end_time": "2024-04-28T22:48:36.736519Z",
     "start_time": "2024-04-28T22:48:36.720141Z"
    }
   },
   "id": "acee7f0cc693730f",
   "execution_count": 5
  },
  {
   "cell_type": "code",
   "outputs": [
    {
     "data": {
      "text/plain": "11944893"
     },
     "execution_count": 6,
     "metadata": {},
     "output_type": "execute_result"
    }
   ],
   "source": [
    "collection.count_documents({})"
   ],
   "metadata": {
    "collapsed": false,
    "ExecuteTime": {
     "end_time": "2024-04-28T22:51:32.582495Z",
     "start_time": "2024-04-28T22:51:03.579913Z"
    }
   },
   "id": "ca33b93b6bf1ed34",
   "execution_count": 6
  },
  {
   "cell_type": "code",
   "outputs": [],
   "source": [],
   "metadata": {
    "collapsed": false
   },
   "id": "dfbfec8dac5643c4"
  }
 ],
 "metadata": {
  "kernelspec": {
   "display_name": "Python 3 (ipykernel)",
   "language": "python",
   "name": "python3"
  },
  "language_info": {
   "codemirror_mode": {
    "name": "ipython",
    "version": 3
   },
   "file_extension": ".py",
   "mimetype": "text/x-python",
   "name": "python",
   "nbconvert_exporter": "python",
   "pygments_lexer": "ipython3",
   "version": "3.10.9"
  }
 },
 "nbformat": 4,
 "nbformat_minor": 5
}
