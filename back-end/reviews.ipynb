{
 "cells": [
  {
   "cell_type": "markdown",
   "id": "6fbc1051",
   "metadata": {},
   "source": [
    "# ETL Process for Reviews"
   ]
  },
  {
   "cell_type": "code",
   "execution_count": 1,
   "id": "2fba8f4dfb1d71b",
   "metadata": {
    "scrolled": false,
    "ExecuteTime": {
     "end_time": "2024-04-28T20:15:09.920400Z",
     "start_time": "2024-04-28T20:14:28.976927Z"
    }
   },
   "outputs": [
    {
     "name": "stderr",
     "output_type": "stream",
     "text": [
      "/var/folders/4m/_hrbkn4n1136mxjddxj_xssr0000gp/T/ipykernel_89414/1972203836.py:5: DtypeWarning: Columns (0,1,3) have mixed types. Specify dtype option on import or set low_memory=False.\n",
      "  reviews = pd.read_csv(\"../Data/reviews.csv\")\n"
     ]
    }
   ],
   "source": [
    "# extract data\n",
    "import pandas as pd\n",
    "\n",
    "# Load data into a DataFrame\n",
    "reviews = pd.read_csv(\"../Data/reviews.csv\")"
   ]
  },
  {
   "cell_type": "code",
   "execution_count": 2,
   "id": "02ef5353",
   "metadata": {
    "scrolled": false,
    "ExecuteTime": {
     "end_time": "2024-04-28T20:15:16.067955Z",
     "start_time": "2024-04-28T20:15:09.912348Z"
    }
   },
   "outputs": [],
   "source": [
    "# connect to mongodb\n",
    "from pymongo import MongoClient\n",
    "\n",
    "# Setup MongoDB connection\n",
    "client = MongoClient('localhost',27017)\n",
    "db = client[\"airbnb\"] \n",
    "collection = db[\"reviews\"]  \n",
    "collection.drop()"
   ]
  },
  {
   "cell_type": "code",
   "execution_count": 3,
   "id": "abd4e706",
   "metadata": {
    "ExecuteTime": {
     "end_time": "2024-04-28T20:19:22.909453Z",
     "start_time": "2024-04-28T20:15:15.155192Z"
    }
   },
   "outputs": [],
   "source": [
    "# load data\n",
    "\n",
    "# Convert DataFrame to dictionary\n",
    "reviews_dict = reviews.to_dict(\"records\")\n",
    "\n",
    "# Insert data into MongoDB\n",
    "result = collection.insert_many(reviews_dict)"
   ]
  },
  {
   "cell_type": "code",
   "outputs": [
    {
     "data": {
      "text/plain": "11944893"
     },
     "execution_count": 4,
     "metadata": {},
     "output_type": "execute_result"
    }
   ],
   "source": [
    "len(result.inserted_ids)"
   ],
   "metadata": {
    "collapsed": false,
    "ExecuteTime": {
     "end_time": "2024-04-28T20:20:36.474045Z",
     "start_time": "2024-04-28T20:20:36.437128Z"
    }
   },
   "id": "acee7f0cc693730f",
   "execution_count": 4
  },
  {
   "cell_type": "code",
   "outputs": [],
   "source": [],
   "metadata": {
    "collapsed": false
   },
   "id": "f93c59a32589d26d"
  }
 ],
 "metadata": {
  "kernelspec": {
   "display_name": "Python 3 (ipykernel)",
   "language": "python",
   "name": "python3"
  },
  "language_info": {
   "codemirror_mode": {
    "name": "ipython",
    "version": 3
   },
   "file_extension": ".py",
   "mimetype": "text/x-python",
   "name": "python",
   "nbconvert_exporter": "python",
   "pygments_lexer": "ipython3",
   "version": "3.10.9"
  }
 },
 "nbformat": 4,
 "nbformat_minor": 5
}
