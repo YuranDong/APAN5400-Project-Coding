{
 "cells": [
  {
   "cell_type": "code",
   "execution_count": 3,
   "id": "initial_id",
   "metadata": {
    "collapsed": true,
    "ExecuteTime": {
     "end_time": "2024-04-27T18:54:58.246094Z",
     "start_time": "2024-04-27T18:54:54.362753Z"
    }
   },
   "outputs": [
    {
     "name": "stderr",
     "output_type": "stream",
     "text": [
      "[Stage 4:=================================================>       (25 + 4) / 29]\r"
     ]
    },
    {
     "name": "stdout",
     "output_type": "stream",
     "text": [
      "+----------+-------+----------+-----------+-------------+--------------------+-----+------+----------+\n",
      "|listing_id|     id|      date|reviewer_id|reviewer_name|            comments|state|  city| data_date|\n",
      "+----------+-------+----------+-----------+-------------+--------------------+-----+------+----------+\n",
      "|   1489424|7208791|2013-09-10|    5817914|       Hilary|Efrat and Dan wer...|   ny|albany|2024-01-06|\n",
      "|   1489424|8001939|2013-10-12|    4786919|       Sharon|As advertised, a ...|   ny|albany|2024-01-06|\n",
      "|   1489424|8123022|2013-10-16|    4786919|       Sharon|Glad to be back f...|   ny|albany|2024-01-06|\n",
      "|   1489424|8279957|2013-10-23|    8362214|       Andrej|We stayed only fo...|   ny|albany|2024-01-06|\n",
      "|   1489424|8303182|2013-10-24|    9458270|      Andreia|I had a pleasant ...|   ny|albany|2024-01-06|\n",
      "+----------+-------+----------+-----------+-------------+--------------------+-----+------+----------+\n"
     ]
    },
    {
     "name": "stderr",
     "output_type": "stream",
     "text": [
      "                                                                                \r"
     ]
    }
   ],
   "source": [
    "# Spark session includes the MongoDB package\n",
    "from pyspark.sql import SparkSession\n",
    "\n",
    "spark = SparkSession.builder \\\n",
    "    .appName(\"ReviewDataExtraction\") \\\n",
    "    .config(\"spark.mongodb.input.uri\", \"mongodb://127.0.0.1/test.myCollection\") \\\n",
    "    .config(\"spark.mongodb.output.uri\", \"mongodb://127.0.0.1/test.myCollection\") \\\n",
    "    .getOrCreate()\n",
    "\n",
    "reviews_df = spark.read.csv(\"../Data/reviews.csv\", header=True, inferSchema=True)\n",
    "reviews_df.show(5)"
   ]
  },
  {
   "cell_type": "code",
   "outputs": [],
   "source": [],
   "metadata": {
    "collapsed": false
   },
   "id": "2fba8f4dfb1d71b"
  }
 ],
 "metadata": {
  "kernelspec": {
   "display_name": "Python 3",
   "language": "python",
   "name": "python3"
  },
  "language_info": {
   "codemirror_mode": {
    "name": "ipython",
    "version": 2
   },
   "file_extension": ".py",
   "mimetype": "text/x-python",
   "name": "python",
   "nbconvert_exporter": "python",
   "pygments_lexer": "ipython2",
   "version": "2.7.6"
  }
 },
 "nbformat": 4,
 "nbformat_minor": 5
}
