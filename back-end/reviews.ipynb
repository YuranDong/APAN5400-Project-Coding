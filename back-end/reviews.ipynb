{
 "cells": [
  {
   "cell_type": "markdown",
   "id": "6fbc1051",
   "metadata": {},
   "source": [
    "# ETL Process for Reviews"
   ]
  },
  {
   "cell_type": "code",
   "execution_count": 8,
   "id": "2fba8f4dfb1d71b",
   "metadata": {
    "scrolled": false
   },
   "outputs": [
    {
     "name": "stderr",
     "output_type": "stream",
     "text": [
      "/var/folders/b5/5t53frhn0fbcc9pkwsc0y3rr0000gn/T/ipykernel_2521/362808548.py:4: DtypeWarning: Columns (0,1,3) have mixed types. Specify dtype option on import or set low_memory=False.\n",
      "  reviews = pd.read_csv(\"/Users/chengyuting/Desktop/APAN5400/Project/reviews.csv\")\n"
     ]
    }
   ],
   "source": [
    "import pandas as pd\n",
    "\n",
    "# Load data into a DataFrame\n",
    "reviews = pd.read_csv(\"/Users/chengyuting/Desktop/APAN5400/Project/reviews.csv\")"
   ]
  },
  {
   "cell_type": "code",
   "execution_count": 2,
   "id": "02ef5353",
   "metadata": {
    "scrolled": false
   },
   "outputs": [],
   "source": [
    "from pymongo import MongoClient\n",
    "\n",
    "# Setup MongoDB connection\n",
    "client = MongoClient('localhost',27017)\n",
    "db = client[\"test\"] \n",
    "collection = db[\"myCollection\"]  \n",
    "collection.drop()"
   ]
  },
  {
   "cell_type": "code",
   "execution_count": 4,
   "id": "abd4e706",
   "metadata": {},
   "outputs": [],
   "source": [
    "# Convert DataFrame to dictionary\n",
    "reviews_dict = reviews.to_dict(\"records\")\n",
    "\n",
    "# Insert data into MongoDB\n",
    "result = collection.insert_many(reviews_dict)"
   ]
  }
 ],
 "metadata": {
  "kernelspec": {
   "display_name": "Python 3 (ipykernel)",
   "language": "python",
   "name": "python3"
  },
  "language_info": {
   "codemirror_mode": {
    "name": "ipython",
    "version": 3
   },
   "file_extension": ".py",
   "mimetype": "text/x-python",
   "name": "python",
   "nbconvert_exporter": "python",
   "pygments_lexer": "ipython3",
   "version": "3.10.9"
  }
 },
 "nbformat": 4,
 "nbformat_minor": 5
}
